{
 "cells": [
  {
   "cell_type": "markdown",
   "id": "930e0ec9",
   "metadata": {},
   "source": [
    " Q1: Write a function to reverse a list\n"
   ]
  },
  {
   "cell_type": "code",
   "execution_count": 66,
   "id": "3653594b",
   "metadata": {},
   "outputs": [
    {
     "name": "stdout",
     "output_type": "stream",
     "text": [
      "[0, 9, 8, 7, 6, 5, 4, 3, 2, 1]\n"
     ]
    }
   ],
   "source": [
    "def reverseList(list):\n",
    "    length = len(list)\n",
    "    index = length - 1\n",
    "    reversed_list = []\n",
    "    while index >= 0:\n",
    "        reversed_list.append(list[index])\n",
    "        index = index - 1\n",
    "    \n",
    "    \n",
    "    print(reversed_list)\n",
    "    \n",
    "    \n",
    "    \n",
    "    \n",
    "    \n",
    "list = [1,2,3,4,5,6,7,8,9,0]\n",
    "\n",
    "reverseList(list)\n"
   ]
  },
  {
   "cell_type": "markdown",
   "id": "838c2631",
   "metadata": {},
   "source": [
    "Q2: Write a function to find the factorial of a given number\n"
   ]
  },
  {
   "cell_type": "code",
   "execution_count": 67,
   "id": "9600b106",
   "metadata": {},
   "outputs": [
    {
     "name": "stdout",
     "output_type": "stream",
     "text": [
      "362880\n"
     ]
    }
   ],
   "source": [
    "\n",
    "def factorial(number):\n",
    "    product = 1\n",
    "    \n",
    "    while number > 0:\n",
    "        product = product * number\n",
    "        number = number - 1\n",
    "    print(product)\n",
    "    \n",
    "\n",
    "factorial(9)\n"
   ]
  },
  {
   "cell_type": "markdown",
   "id": "586555b4",
   "metadata": {},
   "source": [
    "Q3:  \n",
    "If a number is divisible by 3, write 'Fizz' in place of the number\n",
    "If a number is divisible by 5, write 'Buzz' in place of the number\n",
    "If a number is divisible by both 3 and 5, write 'FizzBuzz' in place of the number\n"
   ]
  },
  {
   "cell_type": "code",
   "execution_count": 68,
   "id": "433e7298",
   "metadata": {},
   "outputs": [
    {
     "name": "stdout",
     "output_type": "stream",
     "text": [
      "1\n",
      "2\n",
      "Fizz\n",
      "4\n",
      "Buzz\n",
      "Fizz\n",
      "7\n",
      "8\n",
      "Fizz\n",
      "Buzz\n",
      "11\n",
      "Fizz\n",
      "13\n",
      "14\n",
      "FizzBuzz\n",
      "16\n",
      "17\n",
      "Fizz\n",
      "19\n",
      "Buzz\n",
      "Fizz\n",
      "22\n",
      "23\n",
      "Fizz\n",
      "Buzz\n",
      "26\n",
      "Fizz\n",
      "28\n",
      "29\n",
      "FizzBuzz\n",
      "31\n",
      "32\n",
      "Fizz\n",
      "34\n",
      "Buzz\n",
      "Fizz\n",
      "37\n",
      "38\n",
      "Fizz\n",
      "Buzz\n",
      "41\n",
      "Fizz\n",
      "43\n",
      "44\n",
      "FizzBuzz\n",
      "46\n",
      "47\n",
      "Fizz\n",
      "49\n",
      "Buzz\n",
      "Fizz\n",
      "52\n",
      "53\n",
      "Fizz\n",
      "Buzz\n",
      "56\n",
      "Fizz\n",
      "58\n",
      "59\n",
      "FizzBuzz\n",
      "61\n",
      "62\n",
      "Fizz\n",
      "64\n",
      "Buzz\n",
      "Fizz\n",
      "67\n",
      "68\n",
      "Fizz\n",
      "Buzz\n",
      "71\n",
      "Fizz\n",
      "73\n",
      "74\n",
      "FizzBuzz\n",
      "76\n",
      "77\n",
      "Fizz\n",
      "79\n",
      "Buzz\n",
      "Fizz\n",
      "82\n",
      "83\n",
      "Fizz\n",
      "Buzz\n",
      "86\n",
      "Fizz\n",
      "88\n",
      "89\n",
      "FizzBuzz\n",
      "91\n",
      "92\n",
      "Fizz\n",
      "94\n",
      "Buzz\n",
      "Fizz\n",
      "97\n",
      "98\n",
      "Fizz\n",
      "Buzz\n"
     ]
    }
   ],
   "source": [
    "\n",
    "def FizzBuzz():\n",
    "    \n",
    "    i = 1\n",
    "    while i <= 100:\n",
    "        \n",
    "        if i % 15 == 0:\n",
    "            \n",
    "            print('FizzBuzz')\n",
    "        elif i % 3 == 0:\n",
    "            \n",
    "            print('Fizz')\n",
    "        elif i % 5 == 0:\n",
    "            \n",
    "            print('Buzz')\n",
    "        else:\n",
    "            print(i)\n",
    "        \n",
    "        i = i + 1\n",
    "\n",
    "\n",
    "\n",
    "FizzBuzz()"
   ]
  },
  {
   "cell_type": "markdown",
   "id": "2196ba94",
   "metadata": {},
   "source": [
    "Q4: Write a program to find simple interest\n"
   ]
  },
  {
   "cell_type": "code",
   "execution_count": 69,
   "id": "dfc20ef5",
   "metadata": {},
   "outputs": [
    {
     "name": "stdout",
     "output_type": "stream",
     "text": [
      "The principal is  4\n",
      "The period of time is  3\n",
      "The interest rate is  9\n",
      "The Simple Interest is 1.08\n"
     ]
    },
    {
     "data": {
      "text/plain": [
       "1.08"
      ]
     },
     "execution_count": 69,
     "metadata": {},
     "output_type": "execute_result"
    }
   ],
   "source": [
    "def simpleInterest(p,t,r):\n",
    "    print('The principal is ', p)\n",
    "    print('The period of time is ', t)\n",
    "    print('The interest rate is ',r)\n",
    "     \n",
    "    si = (p * t * r)/100\n",
    "     \n",
    "    print('The Simple Interest is', si)\n",
    "    return si\n",
    "     \n",
    "simpleInterest(4, 3, 9)\n"
   ]
  },
  {
   "cell_type": "markdown",
   "id": "a697f705",
   "metadata": {},
   "source": [
    "Q5: Write a program to find compound interest\n",
    "\n"
   ]
  },
  {
   "cell_type": "code",
   "execution_count": 1,
   "id": "932cbabc",
   "metadata": {},
   "outputs": [
    {
     "name": "stdout",
     "output_type": "stream",
     "text": [
      "Compound interest is 65031.34241018063\n"
     ]
    }
   ],
   "source": [
    "def compoundInterest(principle, rate, time):\n",
    " \n",
    "    Amount = principle * (pow((1 + rate / 100), time))\n",
    "    CI = Amount - principle\n",
    "    print(\"Compound interest is\", CI)\n",
    " \n",
    " \n",
    "\n",
    "compoundInterest(60000, 8.5, 9)\n"
   ]
  },
  {
   "cell_type": "markdown",
   "id": "74f280ea",
   "metadata": {},
   "source": [
    "Q6: Write a program to write the nth fibonacci number\n"
   ]
  },
  {
   "cell_type": "code",
   "execution_count": 72,
   "id": "c68c2da9",
   "metadata": {},
   "outputs": [
    {
     "name": "stdout",
     "output_type": "stream",
     "text": [
      "3\n"
     ]
    }
   ],
   "source": [
    "def Fibonacci(n):\n",
    "    if n<= 0:\n",
    "        print(\"Your number cannot be zero\")\n",
    "    # First Fibonacci number is 0\n",
    "    elif n == 1:\n",
    "        return 0\n",
    "    # Second Fibonacci number is 1\n",
    "    elif n == 2:\n",
    "        return 1\n",
    "    else:\n",
    "        return Fibonacci(n-1)+Fibonacci(n-2)\n",
    " \n",
    "# Driver Program\n",
    " \n",
    "print(Fibonacci(5))\n"
   ]
  },
  {
   "cell_type": "markdown",
   "id": "dfd9b60f",
   "metadata": {},
   "source": [
    "Q7: Write a program to clone a list in python"
   ]
  },
  {
   "cell_type": "code",
   "execution_count": 73,
   "id": "96c4f643",
   "metadata": {},
   "outputs": [
    {
     "name": "stdout",
     "output_type": "stream",
     "text": [
      "Original List: [4, 8, 2, 10, 15, 18]\n",
      "After Cloning: [4, 8, 2, 10, 15, 18]\n"
     ]
    }
   ],
   "source": [
    "def Cloning(li1):\n",
    "    li_copy = li1[:]\n",
    "    return li_copy\n",
    " \n",
    " \n",
    "# Driver Code\n",
    "li1 = [4, 8, 2, 10, 15, 18]\n",
    "li2 = Cloning(li1)\n",
    "print(\"Original List:\", li1)\n",
    "print(\"After Cloning:\", li2)\n"
   ]
  },
  {
   "cell_type": "code",
   "execution_count": null,
   "id": "f0a74903",
   "metadata": {},
   "outputs": [],
   "source": []
  },
  {
   "cell_type": "markdown",
   "id": "3dcdf782",
   "metadata": {},
   "source": [
    "Q8: Write a program to check whether a number is a palindrome, which means it is the same when read forwards and backwards."
   ]
  },
  {
   "cell_type": "code",
   "execution_count": 74,
   "id": "8675f60d",
   "metadata": {},
   "outputs": [
    {
     "name": "stdout",
     "output_type": "stream",
     "text": [
      "Yes\n"
     ]
    }
   ],
   "source": [
    "def isPalindrome(str):\n",
    " \n",
    "    \n",
    "    for i in range(0, int(len(str)/2)):\n",
    "        if str[i] != str[len(str)-i-1]:\n",
    "            return False\n",
    "    return True\n",
    " \n",
    "\n",
    "s = \"racecar\"\n",
    "ans = isPalindrome(s)\n",
    " \n",
    "if (ans):\n",
    "    print(\"Yes\")\n",
    "else:\n",
    "    print(\"No\")\n"
   ]
  },
  {
   "cell_type": "code",
   "execution_count": null,
   "id": "b52a388f",
   "metadata": {},
   "outputs": [],
   "source": []
  },
  {
   "cell_type": "markdown",
   "id": "76b304f6",
   "metadata": {},
   "source": [
    "Q9: Write a python program to find the area of a circle\n"
   ]
  },
  {
   "cell_type": "code",
   "execution_count": 4,
   "id": "119884cc",
   "metadata": {},
   "outputs": [
    {
     "name": "stdout",
     "output_type": "stream",
     "text": [
      "Input the radius of the circle : 12\n",
      "The area of the circle with radius 12.0 is: 452.3893421169302\n"
     ]
    }
   ],
   "source": [
    "\n",
    "from math import pi\n",
    "r = float(input (\"Input the radius of the circle : \"))\n",
    "print (\"The area of the circle with radius \" + str(r) + \" is: \" + str(pi * r**2))\n"
   ]
  },
  {
   "cell_type": "code",
   "execution_count": null,
   "id": "f0f2ab22",
   "metadata": {},
   "outputs": [],
   "source": []
  },
  {
   "cell_type": "markdown",
   "id": "abe654f7",
   "metadata": {},
   "source": [
    "Q10: Write a python program to reverse words in a string\n"
   ]
  },
  {
   "cell_type": "code",
   "execution_count": 76,
   "id": "d92d3a94",
   "metadata": {},
   "outputs": [
    {
     "name": "stdout",
     "output_type": "stream",
     "text": [
      "you are how hello\n"
     ]
    }
   ],
   "source": [
    "string = \"hello how are you\"\n",
    "# reversing words in a given string\n",
    "s = string.split()[::-1]\n",
    "l = []\n",
    "for i in s:\n",
    "    \n",
    "    l.append(i)\n",
    "# printing reverse words\n",
    "print(\" \".join(l))\n"
   ]
  },
  {
   "cell_type": "code",
   "execution_count": null,
   "id": "40c5d28d",
   "metadata": {},
   "outputs": [],
   "source": []
  },
  {
   "cell_type": "markdown",
   "id": "7a062210",
   "metadata": {},
   "source": [
    "Q11: Find the least frequent character in a string\n"
   ]
  },
  {
   "cell_type": "code",
   "execution_count": 77,
   "id": "f5f11bb6",
   "metadata": {},
   "outputs": [
    {
     "name": "stdout",
     "output_type": "stream",
     "text": [
      "The original string is : NumpyNinjas\n",
      "The minimum of all characters in the string is : u\n"
     ]
    }
   ],
   "source": [
    "test_str = \"NumpyNinjas\"\n",
    " \n",
    "# printing original string\n",
    "print (\"The original string is : \" + test_str)\n",
    " \n",
    "all_freq = {}\n",
    "for i in test_str:\n",
    " if i in all_freq:\n",
    "  all_freq[i] += 1\n",
    " else:\n",
    "  all_freq[i] = 1\n",
    "res = min(all_freq, key = all_freq.get)\n",
    " \n",
    "# printing result\n",
    "print (\"The minimum of all characters in the string is : \" + str(res))\n"
   ]
  },
  {
   "cell_type": "code",
   "execution_count": null,
   "id": "d4f5bd95",
   "metadata": {},
   "outputs": [],
   "source": []
  },
  {
   "cell_type": "markdown",
   "id": "137924f1",
   "metadata": {},
   "source": [
    "Q12: Find the most frequent character in a string\n"
   ]
  },
  {
   "cell_type": "code",
   "execution_count": 78,
   "id": "165d3fc0",
   "metadata": {},
   "outputs": [
    {
     "name": "stdout",
     "output_type": "stream",
     "text": [
      "The original string is : NumpyNinjas\n",
      "The maximum of all characters in this string is : N\n"
     ]
    }
   ],
   "source": [
    "test_str = \"NumpyNinjas\"\n",
    " \n",
    "print (\"The original string is : \" + test_str)\n",
    " \n",
    "all_freq = {}\n",
    "for i in test_str:\n",
    " if i in all_freq:\n",
    "  all_freq[i] += 1\n",
    " else:\n",
    "  all_freq[i] = 1\n",
    "res = max(all_freq, key = all_freq.get)\n",
    " \n",
    "# printing result\n",
    "print (\"The maximum of all characters in this string is : \" + str(res))\n"
   ]
  },
  {
   "cell_type": "code",
   "execution_count": null,
   "id": "35d636ab",
   "metadata": {},
   "outputs": [],
   "source": []
  },
  {
   "cell_type": "markdown",
   "id": "6284644c",
   "metadata": {},
   "source": [
    "Q13: Split or join a string based on a certain ‘separating character’, known as a delimiter\n"
   ]
  },
  {
   "cell_type": "code",
   "execution_count": 79,
   "id": "6b761497",
   "metadata": {},
   "outputs": [
    {
     "name": "stdout",
     "output_type": "stream",
     "text": [
      "['Hello', 'How', 'Are', 'You']\n",
      "Hello-How-Are-You\n"
     ]
    }
   ],
   "source": [
    "def split_string(string):\n",
    " \n",
    "    # Split the string based on space delimiter\n",
    "    list_string = string.split(' ')\n",
    "     \n",
    "    return list_string\n",
    " \n",
    "def join_string(list_string):\n",
    " \n",
    "    # Join the string based on '-' delimiter\n",
    "    string = '-'.join(list_string)\n",
    "     \n",
    "    return string\n",
    " \n",
    "# Driver Function\n",
    "if __name__ == '__main__':\n",
    "    string = 'Hello How Are You'\n",
    "     \n",
    "    # Splitting a string\n",
    "    list_string = split_string(string)\n",
    "    print(list_string)\n",
    " \n",
    "     # Join list of strings into one\n",
    "    new_string = join_string(list_string)\n",
    "    print(new_string)\n"
   ]
  },
  {
   "cell_type": "code",
   "execution_count": null,
   "id": "b78a6ba7",
   "metadata": {},
   "outputs": [],
   "source": []
  },
  {
   "cell_type": "markdown",
   "id": "9dba73a9",
   "metadata": {},
   "source": [
    "Q14: Make a pair plot on AmbulatoryVisits table & do u see any correlation between columns values."
   ]
  },
  {
   "cell_type": "code",
   "execution_count": null,
   "id": "1c2102ee",
   "metadata": {},
   "outputs": [],
   "source": [
    "\n",
    "import pandas as pd\n",
    "import numpy as np\n",
    "import seaborn as sns\n",
    "import matplotlib.pyplot as plt\n",
    "df = pd.read_excel(\"HospitalDatabase .xlsx\",sheet_name=\"AmbulatoryVisits”)\n",
    "\n",
    "sns.pairplot(df,hue=\"VisitType\")\n",
    "plt.show()\n"
   ]
  },
  {
   "cell_type": "code",
   "execution_count": null,
   "id": "bf27e53c",
   "metadata": {},
   "outputs": [],
   "source": []
  },
  {
   "cell_type": "markdown",
   "id": "3e56bb26",
   "metadata": {},
   "source": [
    "Q15. Using iloc, retrieve the ProviderName and ProviderSpecialty between indices 1 and 20.\n"
   ]
  },
  {
   "cell_type": "code",
   "execution_count": 81,
   "id": "c3a2a291",
   "metadata": {},
   "outputs": [
    {
     "name": "stdout",
     "output_type": "stream",
     "text": [
      "       ProviderName ProviderSpecialty\n",
      "1        Mike Myers        Pediatrics\n",
      "2    Jordan Michael        Pediatrics\n",
      "3         Ted Texas        Pediatrics\n",
      "4          Ala Bama        Pediatrics\n",
      "5        Harry Kane        Pediatrics\n",
      "6         Barry Bar        Pediatrics\n",
      "7         Ted Green        Pediatrics\n",
      "8         Ted Black        Pediatrics\n",
      "9          Fred Man           Surgery\n",
      "10     Kim Kimberly           Surgery\n",
      "11         Sarah Ab           Surgery\n",
      "12  Abigail Marriot           Surgery\n",
      "13          Dave Yu           Surgery\n",
      "14  Christian Saint           Surgery\n",
      "15     Perry Pardon           Surgery\n",
      "16     Kent Kendall        Cardiology\n",
      "17       Ryan Kevin        Cardiology\n",
      "18     Tyler Conner        Cardiology\n",
      "19    Bailey Barret        Cardiology\n",
      "20      Megan Bonco        Cardiology\n"
     ]
    }
   ],
   "source": [
    "import pandas as pd\n",
    "dataset = pd.read_excel(\"HospitalDatabase .xlsx\",sheet_name=\"Providers\")\n",
    "import numpy as np\n",
    "import matplotlib.pyplot as plt\n",
    "print(dataset.iloc[1:21,1:3])\n",
    "\n",
    "\n",
    "\n"
   ]
  },
  {
   "cell_type": "markdown",
   "id": "96530c54",
   "metadata": {},
   "source": [
    "Q16.Create a jointplot on ReasonForVisit & EDDisposition.\n",
    "\n"
   ]
  },
  {
   "cell_type": "code",
   "execution_count": 82,
   "id": "c6fe45b4",
   "metadata": {},
   "outputs": [
    {
     "data": {
      "text/plain": [
       "<seaborn.axisgrid.JointGrid at 0x1f4637c08e0>"
      ]
     },
     "execution_count": 82,
     "metadata": {},
     "output_type": "execute_result"
    },
    {
     "data": {
      "image/png": "[encoded data removed]",
      "text/plain": [
       "<Figure size 432x432 with 3 Axes>"
      ]
     },
     "metadata": {
      "needs_background": "light"
     },
     "output_type": "display_data"
    }
   ],
   "source": [
    "\n",
    "import pandas as pd\n",
    "import seaborn as sns\n",
    "df = pd.read_excel('HospitalDatabase .xlsx','EDUnique' )\n",
    "sns.jointplot(y='ReasonForVisit',x='EDDisposition',data=df)"
   ]
  },
  {
   "cell_type": "code",
   "execution_count": null,
   "id": "697e594d",
   "metadata": {},
   "outputs": [],
   "source": []
  },
  {
   "cell_type": "markdown",
   "id": "a55fb87a",
   "metadata": {},
   "source": [
    "Q.17.Create a correlation matrix on Discharges"
   ]
  },
  {
   "cell_type": "code",
   "execution_count": 83,
   "id": "f03f026a",
   "metadata": {},
   "outputs": [
    {
     "name": "stdout",
     "output_type": "stream",
     "text": [
      "Correlation matrix is :\n",
      "                   AdmissionID  PatientID  ExpectedLOS  ExpectedMortality\n",
      "AdmissionID           1.000000   0.302079    -0.070080           0.034083\n",
      "PatientID             0.302079   1.000000    -0.015485           0.008014\n",
      "ExpectedLOS          -0.070080  -0.015485     1.000000           0.220725\n",
      "ExpectedMortality     0.034083   0.008014     0.220725           1.000000\n"
     ]
    }
   ],
   "source": [
    "import pandas  as pd\n",
    "import numpy as np\n",
    "edv = pd.read_excel(\"HospitalDatabase .xlsx\", \"Discharges\")\n",
    "edv\n",
    "matrix = edv.corr()\n",
    "print(\"Correlation matrix is :\")\n",
    "print(matrix)\n",
    "\n"
   ]
  },
  {
   "cell_type": "code",
   "execution_count": null,
   "id": "96ae2987",
   "metadata": {},
   "outputs": [],
   "source": []
  },
  {
   "cell_type": "markdown",
   "id": "418adaa3",
   "metadata": {},
   "source": [
    "Q18.Number of patients ‘Admitted’ based on Reasonforvisit\n"
   ]
  },
  {
   "cell_type": "code",
   "execution_count": null,
   "id": "03ad25b6",
   "metadata": {},
   "outputs": [],
   "source": [
    "import pandas as pd\n",
    "df= pd.read_excel('HospitalDatabase .xlsx','EDVisits')\n",
    "df1=df.loc[(df[‘EDDisposition’] == 'Admitted')]\n",
    "df1[['ReasonForVisit', 'EDDisposition']].value_counts().reset_index(name='Counts')\n",
    "\n"
   ]
  },
  {
   "cell_type": "code",
   "execution_count": null,
   "id": "824ee1f4",
   "metadata": {},
   "outputs": [],
   "source": [
    "\n"
   ]
  },
  {
   "cell_type": "markdown",
   "id": "369aeb48",
   "metadata": {},
   "source": [
    "# Q19: Write a Python function that takes a sequence of numbers and determines whether all the numbers are different from each other"
   ]
  },
  {
   "cell_type": "code",
   "execution_count": 5,
   "id": "f6989d66",
   "metadata": {},
   "outputs": [
    {
     "name": "stdout",
     "output_type": "stream",
     "text": [
      "True\n",
      "True\n"
     ]
    }
   ],
   "source": [
    "# Q19: Write a Python function that takes a sequence of numbers and determines whether all the numbers are different from each other\n",
    "\n",
    "def test_distinct(data):\n",
    "  if len(data) == len(set(data)):\n",
    "    return True\n",
    "  else:\n",
    "    return False;\n",
    "print(test_distinct([1,9,11,13,15,19,38,56]))\n",
    "print(test_distinct([12,23,56,22,45,90,34,58,99,101]))\n",
    "\n"
   ]
  },
  {
   "cell_type": "code",
   "execution_count": null,
   "id": "38fed62c",
   "metadata": {},
   "outputs": [],
   "source": []
  },
  {
   "cell_type": "markdown",
   "id": "bf8c31d7",
   "metadata": {},
   "source": [
    "#Q20:Write a Python program to print a long text, convert the string to a list and print all the words and their frequencies."
   ]
  },
  {
   "cell_type": "code",
   "execution_count": 7,
   "id": "74c5276c",
   "metadata": {},
   "outputs": [
    {
     "name": "stdout",
     "output_type": "stream",
     "text": [
      "String:\n",
      " 'A Quick Brown Fox Jumps Over The Lazy Dog.' \n",
      "\n",
      "List:\n",
      " [\"'A\", 'Quick', 'Brown', 'Fox', 'Jumps', 'Over', 'The', 'Lazy', \"Dog.'\"] \n",
      "\n",
      "Pairs (Words and Frequencies:\n",
      " [(\"'A\", 1), ('Quick', 1), ('Brown', 1), ('Fox', 1), ('Jumps', 1), ('Over', 1), ('The', 1), ('Lazy', 1), (\"Dog.'\", 1)]\n"
     ]
    }
   ],
   "source": [
    "string_words = \"'A Quick Brown Fox Jumps Over The Lazy Dog.'\"\n",
    "word_list = string_words.split()\n",
    "\n",
    "word_freq = [word_list.count(n) for n in word_list]\n",
    "\n",
    "print(\"String:\\n {} \\n\".format(string_words))\n",
    "print(\"List:\\n {} \\n\".format(str(word_list)))\n",
    "print(\"Pairs (Words and Frequencies:\\n {}\".format(str(list(zip(word_list, word_freq)))))"
   ]
  },
  {
   "cell_type": "code",
   "execution_count": null,
   "id": "60fc0dda",
   "metadata": {},
   "outputs": [],
   "source": []
  },
  {
   "cell_type": "markdown",
   "id": "972800f4",
   "metadata": {},
   "source": [
    "#Q21:Remove and print every third number from a list of numbers until the list becomes empty"
   ]
  },
  {
   "cell_type": "code",
   "execution_count": null,
   "id": "933bb4a6",
   "metadata": {},
   "outputs": [],
   "source": [
    "#Q21:Remove and print every second number from a list of numbers until the list becomes empty"
   ]
  },
  {
   "cell_type": "code",
   "execution_count": 10,
   "id": "8ec9fa5a",
   "metadata": {},
   "outputs": [
    {
     "name": "stdout",
     "output_type": "stream",
     "text": [
      "22\n",
      "44\n",
      "66\n",
      "88\n",
      "111\n",
      "333\n",
      "555\n",
      "33\n",
      "77\n",
      "222\n",
      "11\n",
      "99\n",
      "55\n",
      "444\n"
     ]
    }
   ],
   "source": [
    "def remove_nums(int_list):\n",
    "  #list starts with 0 index\n",
    "  position = 2 - 1 \n",
    "  idx = 0\n",
    "  len_list = (len(int_list))\n",
    "  while len_list>0:\n",
    "    idx = (position+idx)%len_list\n",
    "    print(int_list.pop(idx))\n",
    "    len_list -= 1\n",
    "nums = [11,22,33,44,55,66,77,88,99,111,222,333,444,555]\n",
    "remove_nums(nums)"
   ]
  },
  {
   "cell_type": "code",
   "execution_count": null,
   "id": "e81692d1",
   "metadata": {},
   "outputs": [],
   "source": []
  },
  {
   "cell_type": "markdown",
   "id": "58e0bf84",
   "metadata": {},
   "source": [
    "#Q22:Create all possible strings by using a, e, i, o, u"
   ]
  },
  {
   "cell_type": "code",
   "execution_count": 12,
   "id": "8a40a288",
   "metadata": {},
   "outputs": [
    {
     "name": "stdout",
     "output_type": "stream",
     "text": [
      "iuoae\n"
     ]
    }
   ],
   "source": [
    "import random\n",
    "char_list = ['a','e','i','o','u']\n",
    "random.shuffle(char_list)\n",
    "print(''.join(char_list))"
   ]
  },
  {
   "cell_type": "code",
   "execution_count": null,
   "id": "62e5da74",
   "metadata": {},
   "outputs": [],
   "source": []
  },
  {
   "cell_type": "markdown",
   "id": "89b7432b",
   "metadata": {},
   "source": [
    "#Q23:Check the numbers that are greater than the previous"
   ]
  },
  {
   "cell_type": "code",
   "execution_count": 14,
   "id": "9ded033d",
   "metadata": {},
   "outputs": [
    {
     "name": "stdout",
     "output_type": "stream",
     "text": [
      "Original list of numbers: [1, 5, 9, 7, 17, 22]\n",
      "Count the numbers of the said list that are greater than the previous number!\n",
      "4\n",
      "Original list of numbers: [10, 53, 35, 24, 62]\n",
      "Count the numbers of the said list that are greater than the previous number!\n",
      "2\n",
      "Original list of numbers: [14, 32, 82, 51]\n",
      "Count the numbers of the said list that are greater than the previous number!\n",
      "2\n"
     ]
    }
   ],
   "source": [
    "def test(nums):\n",
    "    ctr = 0\n",
    "    for i in range(1,len(nums)):\n",
    "        if nums[i] > nums[i-1]:\n",
    "            ctr += 1\n",
    "    return ctr\n",
    "\n",
    "nums = [1, 5, 9, 7, 17, 22]\n",
    "print(\"Original list of numbers:\", nums)\n",
    "print(\"Count the numbers of the said list that are greater than the previous number!\")\n",
    "print(test(nums))\n",
    "nums = [10, 53, 35, 24, 62]\n",
    "print(\"Original list of numbers:\", nums)\n",
    "print(\"Count the numbers of the said list that are greater than the previous number!\")\n",
    "print(test(nums))\n",
    "nums = [14, 32, 82, 51]\n",
    "print(\"Original list of numbers:\", nums)\n",
    "print(\"Count the numbers of the said list that are greater than the previous number!\")\n",
    "print(test(nums))"
   ]
  },
  {
   "cell_type": "code",
   "execution_count": null,
   "id": "4a4f7cf7",
   "metadata": {},
   "outputs": [],
   "source": []
  },
  {
   "cell_type": "markdown",
   "id": "1880787a",
   "metadata": {},
   "source": [
    "#Q24: n x n square consisting only of the integer n"
   ]
  },
  {
   "cell_type": "code",
   "execution_count": 15,
   "id": "63877ade",
   "metadata": {},
   "outputs": [
    {
     "name": "stdout",
     "output_type": "stream",
     "text": [
      "Input an integer : 6\n",
      "[[6, 6, 6, 6, 6, 6], [6, 6, 6, 6, 6, 6], [6, 6, 6, 6, 6, 6], [6, 6, 6, 6, 6, 6], [6, 6, 6, 6, 6, 6], [6, 6, 6, 6, 6, 6]]\n"
     ]
    }
   ],
   "source": [
    "def test(n):\n",
    "    result = []\n",
    "    for i in range(n):\n",
    "        result.append([n]*n)\n",
    "    return result\n",
    "\n",
    "n= int(input(\"Input an integer : \"))\n",
    "print(test(n))"
   ]
  },
  {
   "cell_type": "code",
   "execution_count": null,
   "id": "b7808312",
   "metadata": {},
   "outputs": [],
   "source": []
  },
  {
   "cell_type": "markdown",
   "id": "3cfbeedd",
   "metadata": {},
   "source": [
    "#Q25: Write a Python program to check whether the sum of the digits in a list of positive numbers in each number of list is equal or not. Return true otherwise false"
   ]
  },
  {
   "cell_type": "code",
   "execution_count": 16,
   "id": "aae0b507",
   "metadata": {},
   "outputs": [
    {
     "name": "stdout",
     "output_type": "stream",
     "text": [
      "Original list of numbers: [15, 34, 26, 35]\n",
      "Check sum of the digits in each number of the said list is equal or not!\n",
      "False\n",
      "Original list of numbers: [18, 41, 25, 63]\n",
      "Check sum of the digits in each number of the said list is equal or not!\n",
      "False\n",
      "Original list of numbers: [91, 43, 39, 80]\n",
      "Check sum of the digits in each number of the said list is equal or not!\n",
      "False\n"
     ]
    }
   ],
   "source": [
    "def test(nums):\n",
    "    return nums[0] % 9 == nums[1] % 9 == nums[2] % 9 \n",
    "\n",
    "nums = [15, 34, 26,35]\n",
    "print(\"Original list of numbers:\", nums)\n",
    "print(\"Check sum of the digits in each number of the said list is equal or not!\")\n",
    "print(test(nums))\n",
    "nums = [18, 41, 25,63]\n",
    "print(\"Original list of numbers:\", nums)\n",
    "print(\"Check sum of the digits in each number of the said list is equal or not!\")\n",
    "print(test(nums))\n",
    "nums = [91, 43, 39,80]\n",
    "print(\"Original list of numbers:\", nums)\n",
    "print(\"Check sum of the digits in each number of the said list is equal or not!\")\n",
    "print(test(nums))"
   ]
  },
  {
   "cell_type": "code",
   "execution_count": null,
   "id": "a0002a08",
   "metadata": {},
   "outputs": [],
   "source": []
  },
  {
   "cell_type": "code",
   "execution_count": null,
   "id": "939898a1",
   "metadata": {},
   "outputs": [],
   "source": []
  },
  {
   "cell_type": "code",
   "execution_count": null,
   "id": "07274942",
   "metadata": {},
   "outputs": [],
   "source": []
  },
  {
   "cell_type": "code",
   "execution_count": null,
   "id": "0d9ceb1c",
   "metadata": {},
   "outputs": [],
   "source": []
  },
  {
   "cell_type": "code",
   "execution_count": null,
   "id": "d5dc3f10",
   "metadata": {},
   "outputs": [],
   "source": []
  }
 ],
 "metadata": {
  "kernelspec": {
   "display_name": "Python 3 (ipykernel)",
   "language": "python",
   "name": "python3"
  },
  "language_info": {
   "codemirror_mode": {
    "name": "ipython",
    "version": 3
   },
   "file_extension": ".py",
   "mimetype": "text/x-python",
   "name": "python",
   "nbconvert_exporter": "python",
   "pygments_lexer": "ipython3",
   "version": "3.9.12"
  }
 },
 "nbformat": 4,
 "nbformat_minor": 5
}
