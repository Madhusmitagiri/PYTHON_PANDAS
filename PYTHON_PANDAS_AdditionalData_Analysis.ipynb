{
 "cells": [
  {
   "cell_type": "markdown",
   "id": "1108a1bc",
   "metadata": {},
   "source": [
    " Q1: Write a function to reverse a list\n"
   ]
  },
  {
   "cell_type": "code",
   "execution_count": null,
   "id": "514b7c18",
   "metadata": {},
   "outputs": [],
   "source": [
    "def reverseList(list):\n",
    "    length = len(list)\n",
    "    index = length - 1\n",
    "    reversed_list = []\n",
    "    while index >= 0:\n",
    "        reversed_list.append(list[index])\n",
    "        index = index - 1\n",
    "    \n",
    "    \n",
    "    print(reversed_list)\n",
    "    \n",
    "    \n",
    "    \n",
    "    \n",
    "    \n",
    "list = [1,2,3,4,5,6,7,8,9,0]\n",
    "\n",
    "reverseList(list)\n"
   ]
  },
  {
   "cell_type": "markdown",
   "id": "ed2b31c6",
   "metadata": {},
   "source": [
    "Q2: Write a function to find the factorial of a given number\n"
   ]
  },
  {
   "cell_type": "code",
   "execution_count": null,
   "id": "b5939a8c",
   "metadata": {},
   "outputs": [],
   "source": [
    "\n",
    "def factorial(number):\n",
    "    product = 1\n",
    "    \n",
    "    while number > 0:\n",
    "        product = product * number\n",
    "        number = number - 1\n",
    "    print(product)\n",
    "    \n",
    "\n",
    "factorial(9)\n"
   ]
  },
  {
   "cell_type": "markdown",
   "id": "d28e3d99",
   "metadata": {},
   "source": [
    "Q3:  \n",
    "If a number is divisible by 3, write 'Fizz' in place of the number\n",
    "If a number is divisible by 5, write 'Buzz' in place of the number\n",
    "If a number is divisible by both 3 and 5, write 'FizzBuzz' in place of the number\n"
   ]
  },
  {
   "cell_type": "code",
   "execution_count": null,
   "id": "6faec794",
   "metadata": {},
   "outputs": [],
   "source": [
    "\n",
    "def FizzBuzz():\n",
    "    \n",
    "    i = 1\n",
    "    while i <= 100:\n",
    "        \n",
    "        if i % 15 == 0:\n",
    "            \n",
    "            print('FizzBuzz')\n",
    "        elif i % 3 == 0:\n",
    "            \n",
    "            print('Fizz')\n",
    "        elif i % 5 == 0:\n",
    "            \n",
    "            print('Buzz')\n",
    "        else:\n",
    "            print(i)\n",
    "        \n",
    "        i = i + 1\n",
    "\n",
    "\n",
    "\n",
    "FizzBuzz()"
   ]
  },
  {
   "cell_type": "markdown",
   "id": "05e45b6e",
   "metadata": {},
   "source": [
    "Q4: Write a program to find simple interest\n"
   ]
  },
  {
   "cell_type": "code",
   "execution_count": null,
   "id": "47273aa6",
   "metadata": {},
   "outputs": [],
   "source": [
    "def simpleInterest(p,t,r):\n",
    "    print('The principal is ', p)\n",
    "    print('The period of time is ', t)\n",
    "    print('The interest rate is ',r)\n",
    "     \n",
    "    si = (p * t * r)/100\n",
    "     \n",
    "    print('The Simple Interest is', si)\n",
    "    return si\n",
    "     \n",
    "simpleInterest(4, 3, 9)\n"
   ]
  },
  {
   "cell_type": "markdown",
   "id": "535938f5",
   "metadata": {},
   "source": [
    "Q5: Write a program to find compound interest\n",
    "\n"
   ]
  },
  {
   "cell_type": "code",
   "execution_count": 16,
   "id": "8139c149",
   "metadata": {},
   "outputs": [
    {
     "ename": "IndentationError",
     "evalue": "unindent does not match any outer indentation level (<tokenize>, line 4)",
     "output_type": "error",
     "traceback": [
      "\u001b[1;36m  File \u001b[1;32m<tokenize>:4\u001b[1;36m\u001b[0m\n\u001b[1;33m    CI = Amount - principle\u001b[0m\n\u001b[1;37m    ^\u001b[0m\n\u001b[1;31mIndentationError\u001b[0m\u001b[1;31m:\u001b[0m unindent does not match any outer indentation level\n"
     ]
    }
   ],
   "source": [
    "def compoundInterest(principle, rate, time):\n",
    " \n",
    "       Amount = principle * (pow((1 + rate / 100), time))\n",
    "    CI = Amount - principle\n",
    "    print(\"Compound interest is\", CI)\n",
    " \n",
    " \n",
    "\n",
    "compoundInterest(10000, 10.25, 5)\n"
   ]
  },
  {
   "cell_type": "markdown",
   "id": "a9c93e89",
   "metadata": {},
   "source": [
    "Q6: Write a program to write the nth fibonacci number\n"
   ]
  },
  {
   "cell_type": "code",
   "execution_count": null,
   "id": "d653e7c5",
   "metadata": {},
   "outputs": [],
   "source": [
    "def Fibonacci(n):\n",
    "    if n<= 0:\n",
    "        print(\"Your number cannot be zero\")\n",
    "    # First Fibonacci number is 0\n",
    "    elif n == 1:\n",
    "        return 0\n",
    "    # Second Fibonacci number is 1\n",
    "    elif n == 2:\n",
    "        return 1\n",
    "    else:\n",
    "        return Fibonacci(n-1)+Fibonacci(n-2)\n",
    " \n",
    "# Driver Program\n",
    " \n",
    "print(Fibonacci(5))\n"
   ]
  },
  {
   "cell_type": "markdown",
   "id": "de3ffd8f",
   "metadata": {},
   "source": [
    "Q7: Write a program to clone a list in python"
   ]
  },
  {
   "cell_type": "code",
   "execution_count": 19,
   "id": "312aa2e8",
   "metadata": {},
   "outputs": [
    {
     "name": "stdout",
     "output_type": "stream",
     "text": [
      "Original List: [4, 8, 2, 10, 15, 18]\n",
      "After Cloning: [4, 8, 2, 10, 15, 18]\n"
     ]
    }
   ],
   "source": [
    "def Cloning(li1):\n",
    "    li_copy = li1[:]\n",
    "    return li_copy\n",
    " \n",
    " \n",
    "# Driver Code\n",
    "li1 = [4, 8, 2, 10, 15, 18]\n",
    "li2 = Cloning(li1)\n",
    "print(\"Original List:\", li1)\n",
    "print(\"After Cloning:\", li2)\n"
   ]
  },
  {
   "cell_type": "code",
   "execution_count": null,
   "id": "14571907",
   "metadata": {},
   "outputs": [],
   "source": []
  },
  {
   "cell_type": "markdown",
   "id": "8a6a17d4",
   "metadata": {},
   "source": [
    "Q8: Write a program to check whether a number is a palindrome, which means it is the same when read forwards and backwards."
   ]
  },
  {
   "cell_type": "code",
   "execution_count": 20,
   "id": "9e1ed223",
   "metadata": {},
   "outputs": [
    {
     "name": "stdout",
     "output_type": "stream",
     "text": [
      "Yes\n"
     ]
    }
   ],
   "source": [
    "def isPalindrome(str):\n",
    " \n",
    "    \n",
    "    for i in range(0, int(len(str)/2)):\n",
    "        if str[i] != str[len(str)-i-1]:\n",
    "            return False\n",
    "    return True\n",
    " \n",
    "\n",
    "s = \"racecar\"\n",
    "ans = isPalindrome(s)\n",
    " \n",
    "if (ans):\n",
    "    print(\"Yes\")\n",
    "else:\n",
    "    print(\"No\")\n"
   ]
  },
  {
   "cell_type": "code",
   "execution_count": null,
   "id": "c1770371",
   "metadata": {},
   "outputs": [],
   "source": []
  },
  {
   "cell_type": "markdown",
   "id": "5e4701be",
   "metadata": {},
   "source": [
    "Q9: Write a python program to find the area of a circle\n"
   ]
  },
  {
   "cell_type": "code",
   "execution_count": null,
   "id": "6bd0e28f",
   "metadata": {},
   "outputs": [],
   "source": [
    "def findArea(radius):\n",
    "    PI = 3.141592653589793238462643383279502884197\n",
    "    Area = PI * (radius*radius);\n",
    "    print(“The area of a circle of radius” +\" \" + str(radius) + “ is ”+ str(Area))\n",
    " \n",
    "\n",
    "findArea(31)\n"
   ]
  },
  {
   "cell_type": "code",
   "execution_count": null,
   "id": "b5bdf63f",
   "metadata": {},
   "outputs": [],
   "source": []
  },
  {
   "cell_type": "markdown",
   "id": "473b4db1",
   "metadata": {},
   "source": [
    "Q10: Write a python program to reverse words in a string\n"
   ]
  },
  {
   "cell_type": "code",
   "execution_count": 25,
   "id": "e7fa2b8e",
   "metadata": {},
   "outputs": [
    {
     "name": "stdout",
     "output_type": "stream",
     "text": [
      "you are how hello\n"
     ]
    }
   ],
   "source": [
    "string = \"hello how are you\"\n",
    "# reversing words in a given string\n",
    "s = string.split()[::-1]\n",
    "l = []\n",
    "for i in s:\n",
    "    \n",
    "    l.append(i)\n",
    "# printing reverse words\n",
    "print(\" \".join(l))\n"
   ]
  },
  {
   "cell_type": "code",
   "execution_count": null,
   "id": "94d06e08",
   "metadata": {},
   "outputs": [],
   "source": []
  },
  {
   "cell_type": "markdown",
   "id": "f90c910f",
   "metadata": {},
   "source": [
    "Q11: Find the least frequent character in a string\n"
   ]
  },
  {
   "cell_type": "code",
   "execution_count": 26,
   "id": "f7e7e25c",
   "metadata": {},
   "outputs": [
    {
     "name": "stdout",
     "output_type": "stream",
     "text": [
      "The original string is : NumpyNinjas\n",
      "The minimum of all characters in the string is : u\n"
     ]
    }
   ],
   "source": [
    "test_str = \"NumpyNinjas\"\n",
    " \n",
    "# printing original string\n",
    "print (\"The original string is : \" + test_str)\n",
    " \n",
    "all_freq = {}\n",
    "for i in test_str:\n",
    " if i in all_freq:\n",
    "  all_freq[i] += 1\n",
    " else:\n",
    "  all_freq[i] = 1\n",
    "res = min(all_freq, key = all_freq.get)\n",
    " \n",
    "# printing result\n",
    "print (\"The minimum of all characters in the string is : \" + str(res))\n"
   ]
  },
  {
   "cell_type": "code",
   "execution_count": null,
   "id": "12313f8e",
   "metadata": {},
   "outputs": [],
   "source": []
  },
  {
   "cell_type": "markdown",
   "id": "afc763fe",
   "metadata": {},
   "source": [
    "Q12: Find the most frequent character in a string\n"
   ]
  },
  {
   "cell_type": "code",
   "execution_count": 27,
   "id": "bf3b3631",
   "metadata": {},
   "outputs": [
    {
     "name": "stdout",
     "output_type": "stream",
     "text": [
      "The original string is : NumpyNinjas\n",
      "The maximum of all characters in this string is : N\n"
     ]
    }
   ],
   "source": [
    "test_str = \"NumpyNinjas\"\n",
    " \n",
    "print (\"The original string is : \" + test_str)\n",
    " \n",
    "all_freq = {}\n",
    "for i in test_str:\n",
    " if i in all_freq:\n",
    "  all_freq[i] += 1\n",
    " else:\n",
    "  all_freq[i] = 1\n",
    "res = max(all_freq, key = all_freq.get)\n",
    " \n",
    "# printing result\n",
    "print (\"The maximum of all characters in this string is : \" + str(res))\n"
   ]
  },
  {
   "cell_type": "code",
   "execution_count": null,
   "id": "adeb8dba",
   "metadata": {},
   "outputs": [],
   "source": []
  },
  {
   "cell_type": "markdown",
   "id": "e7a23a3f",
   "metadata": {},
   "source": [
    "Q13: Split or join a string based on a certain ‘separating character’, known as a delimiter\n"
   ]
  },
  {
   "cell_type": "code",
   "execution_count": 28,
   "id": "0eff75a7",
   "metadata": {},
   "outputs": [
    {
     "name": "stdout",
     "output_type": "stream",
     "text": [
      "['Hello', 'How', 'Are', 'You']\n",
      "Hello-How-Are-You\n"
     ]
    }
   ],
   "source": [
    "def split_string(string):\n",
    " \n",
    "    # Split the string based on space delimiter\n",
    "    list_string = string.split(' ')\n",
    "     \n",
    "    return list_string\n",
    " \n",
    "def join_string(list_string):\n",
    " \n",
    "    # Join the string based on '-' delimiter\n",
    "    string = '-'.join(list_string)\n",
    "     \n",
    "    return string\n",
    " \n",
    "# Driver Function\n",
    "if __name__ == '__main__':\n",
    "    string = 'Hello How Are You'\n",
    "     \n",
    "    # Splitting a string\n",
    "    list_string = split_string(string)\n",
    "    print(list_string)\n",
    " \n",
    "     # Join list of strings into one\n",
    "    new_string = join_string(list_string)\n",
    "    print(new_string)\n"
   ]
  },
  {
   "cell_type": "code",
   "execution_count": null,
   "id": "8e22847b",
   "metadata": {},
   "outputs": [],
   "source": []
  },
  {
   "cell_type": "markdown",
   "id": "39f4cd5c",
   "metadata": {},
   "source": [
    "Q14: Make a pair plot on AmbulatoryVisits table & do u see any correlation between columns values."
   ]
  },
  {
   "cell_type": "code",
   "execution_count": null,
   "id": "0d36b243",
   "metadata": {},
   "outputs": [],
   "source": [
    "import pandas as pd\n",
    "import numpy as np\n",
    "import seaborn as sns\n",
    "df = pd.read_excel(\"HospitalDatabase .xlsx\",sheet_name=\"AmbulatoryVisits”)\n",
    "import matplotlib.pyplot as plt\n",
    "sns.pairplot(df,hue=\"VisitType\")\n",
    "plt.show()\n",
    "\n"
   ]
  },
  {
   "cell_type": "code",
   "execution_count": null,
   "id": "0e39cc2f",
   "metadata": {},
   "outputs": [],
   "source": []
  },
  {
   "cell_type": "markdown",
   "id": "d407e0cb",
   "metadata": {},
   "source": [
    "Q15. Using iloc, retrieve the ProviderName and ProviderSpecialty between indices 1 and 20.\n"
   ]
  },
  {
   "cell_type": "code",
   "execution_count": null,
   "id": "9ae25e71",
   "metadata": {},
   "outputs": [],
   "source": [
    "import pandas as pd\n",
    "dataset = pd.read_excel(\"HospitalDatabase .xlsx\",sheet_name=\"Providers\")\n",
    "import numpy as np\n",
    "import matplotlib.pyplot as plt\n",
    "print(dataset.iloc[1:21,1:3])\n",
    "\n",
    "\n",
    "\n"
   ]
  },
  {
   "cell_type": "markdown",
   "id": "aaad5356",
   "metadata": {},
   "source": [
    "Q16.Create a jointplot on ReasonForVisit & EDDisposition.\n",
    "\n"
   ]
  },
  {
   "cell_type": "code",
   "execution_count": null,
   "id": "af0d67fc",
   "metadata": {},
   "outputs": [],
   "source": [
    "\n",
    "import pandas as pd\n",
    "import seaborn as sns\n",
    "df = pd.read_excel('HospitalDatabase .xlsx','EDUnique' )\n",
    "sns.jointplot(y='ReasonForVisit',x='EDDisposition',data=df)"
   ]
  },
  {
   "cell_type": "code",
   "execution_count": null,
   "id": "4d70b0d3",
   "metadata": {},
   "outputs": [],
   "source": []
  },
  {
   "cell_type": "markdown",
   "id": "116d8af5",
   "metadata": {},
   "source": [
    "Q.17.Create a correlation matrix on Discharges"
   ]
  },
  {
   "cell_type": "code",
   "execution_count": 57,
   "id": "dd9969ed",
   "metadata": {},
   "outputs": [
    {
     "name": "stdout",
     "output_type": "stream",
     "text": [
      "Correlation matrix is :\n",
      "                   AdmissionID  PatientID  ExpectedLOS  ExpectedMortality\n",
      "AdmissionID           1.000000   0.302079    -0.070080           0.034083\n",
      "PatientID             0.302079   1.000000    -0.015485           0.008014\n",
      "ExpectedLOS          -0.070080  -0.015485     1.000000           0.220725\n",
      "ExpectedMortality     0.034083   0.008014     0.220725           1.000000\n"
     ]
    }
   ],
   "source": [
    "import pandas  as pd\n",
    "import numpy as np\n",
    "edv = pd.read_excel(\"HospitalDatabase .xlsx\", \"Discharges\")\n",
    "edv\n",
    "matrix = edv.corr()\n",
    "print(\"Correlation matrix is :\")\n",
    "print(matrix)\n",
    "\n"
   ]
  },
  {
   "cell_type": "code",
   "execution_count": null,
   "id": "cf58d9c7",
   "metadata": {},
   "outputs": [],
   "source": []
  },
  {
   "cell_type": "markdown",
   "id": "71a87b4c",
   "metadata": {},
   "source": [
    "Q18.Number of patients ‘Admitted’ based on Reasonforvisit\n"
   ]
  },
  {
   "cell_type": "code",
   "execution_count": null,
   "id": "78a7e5ac",
   "metadata": {},
   "outputs": [],
   "source": [
    "import pandas as pd\n",
    "df= pd.read_excel('HospitalDatabase .xlsx','EDVisits')\n",
    "df1=df.loc[(df[‘EDDisposition’] == 'Admitted')]\n",
    "df1[['ReasonForVisit', 'EDDisposition']].value_counts().reset_index(name='Counts')\n",
    "\n"
   ]
  },
  {
   "cell_type": "code",
   "execution_count": null,
   "id": "9c03de20",
   "metadata": {},
   "outputs": [],
   "source": []
  }
 ],
 "metadata": {
  "kernelspec": {
   "display_name": "Python 3 (ipykernel)",
   "language": "python",
   "name": "python3"
  },
  "language_info": {
   "codemirror_mode": {
    "name": "ipython",
    "version": 3
   },
   "file_extension": ".py",
   "mimetype": "text/x-python",
   "name": "python",
   "nbconvert_exporter": "python",
   "pygments_lexer": "ipython3",
   "version": "3.9.12"
  }
 },
 "nbformat": 4,
 "nbformat_minor": 5
}
