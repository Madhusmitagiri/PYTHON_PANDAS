{
 "cells": [
  {
   "cell_type": "markdown",
   "id": "d54dfff7",
   "metadata": {},
   "source": [
    "Q1.Make a pair plot on Readmission Registry table & do u see any correlation between columns values.\n",
    "\n"
   ]
  },
  {
   "cell_type": "code",
   "execution_count": null,
   "id": "3000290c",
   "metadata": {},
   "outputs": [],
   "source": [
    "#Q1.Make a pair plot on Readmission Registry table & do u see any correlation between columns values.\n",
    "import pandas as pd\n",
    "import numpy as np\n",
    "df = pd.read_excel(\"HospitalDatabase .xlsx\",sheet_name=\"ReAdmissionRegistry\")\n",
    "import seaborn as sns\n",
    "import matplotlib.pyplot as plt\n",
    "sns.pairplot(df,hue=\"PrimaryDiagnosis\")\n",
    "plt.show()\n",
    "\n"
   ]
  },
  {
   "cell_type": "code",
   "execution_count": null,
   "id": "5dad7828",
   "metadata": {},
   "outputs": [],
   "source": []
  },
  {
   "cell_type": "markdown",
   "id": "7696cb18",
   "metadata": {},
   "source": [
    "Q2# Using iloc, retrieve the firstname and lastname of patients between indices 101 and 200.\n"
   ]
  },
  {
   "cell_type": "code",
   "execution_count": null,
   "id": "7991aba3",
   "metadata": {},
   "outputs": [],
   "source": [
    "# Q2 Using iloc, retrieve the firstname and lastname of patients between indices 101 and 200.\n",
    "import pandas as pd\n",
    "dataset = pd.read_excel(\"HospitalDatabase .xlsx\",sheet_name=\"Patients\")\n",
    "import numpy as np\n",
    "import matplotlib.pyplot as plt\n",
    "print(dataset.iloc[101:201,1:3])\n"
   ]
  },
  {
   "cell_type": "code",
   "execution_count": null,
   "id": "57ccd0ae",
   "metadata": {},
   "outputs": [],
   "source": []
  },
  {
   "cell_type": "markdown",
   "id": "eed13fd2",
   "metadata": {},
   "source": [
    "Q3.Create a figure object called fig using plt.figure() **\n",
    " ** Use add_axes to add an axis to the figure canvas at [0,0,1,1]. Call this new axis ax. **\n",
    " ** Plot (x,y) on that axes and set the labels.\n",
    " Note : You can plot on any x,y set of values.\n"
   ]
  },
  {
   "cell_type": "code",
   "execution_count": null,
   "id": "d07d32d2",
   "metadata": {},
   "outputs": [],
   "source": [
    "#Q3.Create a figure object called fig using plt.figure() ** ** Use add_axes to add an axis to the figure canvas at [0,0,1,1].\n",
    "# Call this new axis ax. ** ** Plot (x,y) on that axes and set the labels. Note : You can plot on any x,y set of values.\n",
    "    \n",
    "import matplotlib.pyplot as plt\n",
    "import pandas as pd\n",
    "import numpy as np\n",
    "%matplotlib inline\n",
    "x = range(0, 10)\n",
    "y = range(0, 10)\n",
    "#creating a figure object\n",
    "fig = plt.figure()\n",
    "\n",
    "ax=fig.add_axes([0,0,1,1])\n",
    "ax.plot (x,y)\n",
    "ax.set_title(\"Add Axis \")\n",
    "ax.set_xlabel(\"x\",fontsize=15)\n",
    "ax.set_ylabel(\"y\",fontsize=15)\n",
    "#fig.show()\n"
   ]
  },
  {
   "cell_type": "code",
   "execution_count": null,
   "id": "7e1ae1aa",
   "metadata": {},
   "outputs": [],
   "source": []
  },
  {
   "cell_type": "markdown",
   "id": "c9a4f3c4",
   "metadata": {},
   "source": [
    "#Q4.Display data by splitting age in 4 quartiles and labeling the quartiles."
   ]
  },
  {
   "cell_type": "code",
   "execution_count": null,
   "id": "82c52d97",
   "metadata": {},
   "outputs": [],
   "source": [
    "\n",
    "#Q4.Display data by splitting age in 4 quartiles and labeling the quartiles.\n",
    "import pandas as pd import numpy as np\n",
    "df = pd.DataFrame(np.array([[1, 65], [2, 15], [3, 23], [4, 60], [5, 43], [6, 67], [7, 99], [8, 55]]), columns=['idx', 'age'])\n",
    "\n",
    "print(df)\n",
    "\n",
    "q = df.quantile([0.00, 0.25, 0.50, 0.75, 1.00])\n",
    "\n",
    "col = 'age'\n",
    "\n",
    "q1 = df[((df[col]>=q[col][0.00]) & (df[col]<q[col][0.25]))]\n",
    "q2 = df[((df[col]>=q[col][0.25]) & (df[col]<q[col][0.50]))]\n",
    "q3 = df[((df[col]>=q[col][0.50]) & (df[col]<q[col][0.75]))]\n",
    "q4 = df[((df[col]>=q[col][0.75]) & (df[col]<=q[col][1.00]))]\n",
    "print('First Quartile')\n",
    "print(q1)\n",
    "print('Second Quartile')\n",
    "print(q2)\n",
    "print('Third Quartile')\n",
    "print(q3)\n",
    "print('Fourth Quartile')\n",
    "print(q4)\n"
   ]
  },
  {
   "cell_type": "code",
   "execution_count": null,
   "id": "d59f61b8",
   "metadata": {},
   "outputs": [],
   "source": []
  },
  {
   "cell_type": "markdown",
   "id": "378d8bde",
   "metadata": {},
   "source": [
    "#Q5: Display full name of patients who are born in 1986.\n"
   ]
  },
  {
   "cell_type": "code",
   "execution_count": null,
   "id": "1ceb8b0f",
   "metadata": {},
   "outputs": [],
   "source": [
    "\n",
    "#Q5: Display full name of patients who are born in 1986.\n",
    "import pandas as pd\n",
    "df = pd.read_excel('HospitalDatabase .xlsx','Patients' )\n",
    "df1=df.loc[(df['DateOfBirth'] >= '1986-01-01 00:00:00.000') & (df['DateOfBirth'] < '1987-01-01 00:00:00.000')]\n",
    "df1[\"FirstName\"].astype(str) +\" \"+ df1[\"LastName\"]\n",
    "\n"
   ]
  },
  {
   "cell_type": "code",
   "execution_count": null,
   "id": "a70dd3d5",
   "metadata": {},
   "outputs": [],
   "source": []
  },
  {
   "cell_type": "markdown",
   "id": "3ca7267c",
   "metadata": {},
   "source": [
    "#Q6: Create a jointplot on expected mortality & expected length of stay.\n"
   ]
  },
  {
   "cell_type": "code",
   "execution_count": null,
   "id": "04af73e5",
   "metadata": {},
   "outputs": [],
   "source": [
    "#Q6: Create a jointplot on expected mortality & expected length of stay.\n",
    "import pandas as pd\n",
    "import seaborn as sns\n",
    "df = pd.read_excel('HospitalDatabase .xlsx','Discharges' )\n",
    "sns.jointplot(x='ExpectedLOS',y='ExpectedMortality',data=df)\n",
    "\n"
   ]
  },
  {
   "cell_type": "code",
   "execution_count": null,
   "id": "f22bd9f2",
   "metadata": {},
   "outputs": [],
   "source": []
  },
  {
   "cell_type": "markdown",
   "id": "e36180a2",
   "metadata": {},
   "source": [
    "#Q7:Create a pair plot on whole dataframe by taking parameter \"hue\" as EDDisposition.\n",
    "\n",
    "\n"
   ]
  },
  {
   "cell_type": "code",
   "execution_count": null,
   "id": "88943b9f",
   "metadata": {},
   "outputs": [],
   "source": [
    "#Q7:Create a pair plot on whole dataframe by taking parameter \"hue\" as EDDisposition.\n",
    "import pandas as pd\n",
    "data=pd.read_excel(\"HospitalDatabase .xlsx\",sheet_name=\"EDUnique\")\n",
    "import seaborn as sns\n",
    "import matplotlib.pyplot as plt\n",
    "sns.pairplot(data,hue='EDDisposition')\n",
    "plt.show()\n"
   ]
  },
  {
   "cell_type": "code",
   "execution_count": null,
   "id": "d59f6c7c",
   "metadata": {},
   "outputs": [],
   "source": [
    "\n",
    "   "
   ]
  },
  {
   "cell_type": "markdown",
   "id": "15f547cd",
   "metadata": {},
   "source": [
    "#Q 8: Create a bar chart between expectedLOS & Primary diagnosis.\n",
    "\n"
   ]
  },
  {
   "cell_type": "code",
   "execution_count": null,
   "id": "1d1a7cc5",
   "metadata": {},
   "outputs": [],
   "source": [
    "#Q 8: Create a bar chart between expectedLOS & Primary diagnosis\n",
    "import pandas as pd\n",
    "data=pd.read_excel(\"HospitalDatabase .xlsx\",sheet_name=\"Discharges\")\n",
    "import seaborn as sns\n",
    "import matplotlib.pyplot as plt\n",
    "#plt.bar(xAxis,yAxis)\n",
    "#plt.title('Bar chart between Primary Diagnosis and expectedLOS')\n",
    "#plt.xlabel('X-axis Label')\n",
    "#plt.ylabel('ExpectedLOS')\n",
    "#sns.pairplot(data, bar='')\n",
    "sns.barplot(y='PrimaryDiagnosis', x='ExpectedLOS', data=data)\n",
    "plt.show()\n"
   ]
  },
  {
   "cell_type": "code",
   "execution_count": null,
   "id": "3629904f",
   "metadata": {},
   "outputs": [],
   "source": []
  },
  {
   "cell_type": "markdown",
   "id": "c3b01742",
   "metadata": {},
   "source": [
    "\n",
    "#Q9:Get the list of patient ID's which are not there in ReadmissionRegistry.\n"
   ]
  },
  {
   "cell_type": "code",
   "execution_count": null,
   "id": "37c7af5e",
   "metadata": {},
   "outputs": [],
   "source": [
    "#Q9:Get the list of patient ID's which are not there in ReadmissionRegistry.\n",
    "\n",
    "import pandas as pd\n",
    "df=pd.read_excel(\"HospitalDatabase .xlsx\",'ReAdmissionRegistry')\n",
    "df=df['PatientID']\n",
    "df1=pd.read_excel(\"HospitalDatabase .xlsx\",'Patients')\n",
    "df1=df1['PatientID']\n",
    "df1[~df1.isin(df)].dropna()\n"
   ]
  },
  {
   "cell_type": "code",
   "execution_count": null,
   "id": "b36bf239",
   "metadata": {},
   "outputs": [],
   "source": []
  },
  {
   "cell_type": "markdown",
   "id": "0bddf3ee",
   "metadata": {},
   "source": [
    "#Q10.Create a boxplot on ExpectedLOS by taking service into account.\n"
   ]
  },
  {
   "cell_type": "code",
   "execution_count": null,
   "id": "2e71b933",
   "metadata": {},
   "outputs": [],
   "source": [
    "#Q10.Create a boxplot on ExpectedLOS by taking service into account.\n",
    "import pandas as pd\n",
    "dataset = pd.read_excel(\"HospitalDatabase .xlsx\",sheet_name=\"Discharges\")\n",
    "import seaborn as sns\n",
    "import matplotlib.pyplot as plt\n",
    "sns.boxplot(x=dataset[\"ExpectedLOS\"],y=dataset[\"Service\"])\n",
    "plt.show()\n",
    "\n"
   ]
  },
  {
   "cell_type": "code",
   "execution_count": null,
   "id": "090698a2",
   "metadata": {},
   "outputs": [],
   "source": []
  },
  {
   "cell_type": "markdown",
   "id": "b1a82594",
   "metadata": {},
   "source": [
    "#Q 11.Create a pie chart by taking Service= [\"ICU\", \"Neurology\", \"General\", \"Medicine\"] & ExpectedLOS=[10,5,7,9] & explode the wedge with highest LOS.\n"
   ]
  },
  {
   "cell_type": "code",
   "execution_count": null,
   "id": "f0e1384a",
   "metadata": {},
   "outputs": [],
   "source": [
    "#Q 11.Create a pie chart by taking Service= [\"ICU\", \"Neurology\", \"General\", \"Medicine\"] & ExpectedLOS=[10,5,7,9] & explode the wedge with highest LOS.\n",
    "import matplotlib.pyplot as plt\n",
    "import pandas as pd\n",
    "import numpy as np\n",
    "%matplotlib inline\n",
    "service = [\"ICU\",\"Nearology\",\"General\",\"Medicine\"]\n",
    "Expected_Los = [10,5,7,9]\n",
    "explode = [0.05,0.0,0.0,0.0]\n",
    "plt.pie(Expected_Los,labels = service,explode = explode)\n",
    "plt.title(\"Pie Chart\")\n",
    "plt.show()\n",
    "\n"
   ]
  },
  {
   "cell_type": "code",
   "execution_count": null,
   "id": "ad7442d7",
   "metadata": {},
   "outputs": [],
   "source": [
    "\n"
   ]
  },
  {
   "cell_type": "markdown",
   "id": "0926e91a",
   "metadata": {},
   "source": [
    "#Q12.Connect to sql and write a query to get list of Provider names whose Providername is starting with letter T.\n"
   ]
  },
  {
   "cell_type": "code",
   "execution_count": null,
   "id": "7efc6c40",
   "metadata": {},
   "outputs": [],
   "source": [
    "#Q12.Connect to sql and write a query to get list of Provider names whose Providername is starting with letter T.\n",
    "import psycopg2\n",
    "conn = psycopg2.connect(host=\"localhost\", database=\"HospitalDB_New\", user=\"postgres\", password=\"XXXXXXXXXXX\")\n",
    "cursor = conn.cursor()\n",
    "query1 = \"Select * from public.\\\"Providers\\\" where \\\"ProviderName\\\" Like 'T%'\"\n",
    "cursor.execute(query1)\n",
    "print(cursor.fetchall())\n"
   ]
  },
  {
   "cell_type": "code",
   "execution_count": null,
   "id": "7cada7ec",
   "metadata": {},
   "outputs": [],
   "source": []
  },
  {
   "cell_type": "markdown",
   "id": "f025be65",
   "metadata": {},
   "source": [
    "#Q13.Create a subplot on x = np.arange(0, 10, 0.1) , y = np.sin(np.pi * x) + x with 2 rows & 2 columns with object oriented approach.\n"
   ]
  },
  {
   "cell_type": "code",
   "execution_count": null,
   "id": "1f705ddf",
   "metadata": {},
   "outputs": [],
   "source": [
    "#Q13.Create a subplot on x = np.arange(0, 10, 0.1) , y = np.sin(np.pi * x) + x with 2 rows & 2 columns with object oriented approach.\n",
    "\n",
    "import numpy as np\n",
    "import matplotlib.pyplot as plt\n",
    "\n",
    "x = np.arange(0, 10, 0.1)\n",
    "y = np.sin(np.pi * x) + x\n",
    "\n",
    "plt.subplot(2,2,1)\n",
    "plt.plot(x, y, label = \"Given function\" , c ='blue')\n",
    "plt.title('Plot 1')\n",
    "plt.legend(loc = 1)\n",
    "plt.subplot (2, 2, 2)\n",
    "plt.plot(x, y, label = \"Given function\" , c = 'red')\n",
    "plt.title ('Plot 2')\n",
    "plt.legend (loc = 1)\n",
    "plt.subplot(2, 2, 3)\n",
    "plt.plot(x, y, label = 'Given function', c = 'yellow')\n",
    "plt.title('Plot 3')\n",
    "plt.legend(loc = 1)\n",
    "plt.subplot(2, 2, 4)\n",
    "plt.plot(x, y, label = 'Given function', c = 'green')\n",
    "plt.title('Plot 4')\n",
    "plt.legend(loc = 1)\n",
    "plt.show()\n"
   ]
  },
  {
   "cell_type": "code",
   "execution_count": null,
   "id": "0b429637",
   "metadata": {},
   "outputs": [],
   "source": []
  },
  {
   "cell_type": "markdown",
   "id": "f6118c21",
   "metadata": {},
   "source": [
    "#Q14.Find the number of null values in BloodPressureSystolic column."
   ]
  },
  {
   "cell_type": "code",
   "execution_count": null,
   "id": "05bb9702",
   "metadata": {},
   "outputs": [],
   "source": [
    "#Q14.Find the number of null values in BloodPressureSystolic column.\n",
    "import pandas as pd\n",
    "df = pd.read_excel('HospitalDatabase .xlsx','AmbulatoryVisits' )\n",
    "df['BloodPressureSystolic'].isna().sum()\n",
    "\n"
   ]
  },
  {
   "cell_type": "code",
   "execution_count": null,
   "id": "94203927",
   "metadata": {},
   "outputs": [],
   "source": []
  },
  {
   "cell_type": "markdown",
   "id": "247127de",
   "metadata": {},
   "source": [
    "Q15: Replace all the null values in ReadmissionFlag with 0.\n"
   ]
  },
  {
   "cell_type": "code",
   "execution_count": null,
   "id": "3ca73fa9",
   "metadata": {},
   "outputs": [],
   "source": [
    "#Q15: Replace all the null values in ReadmissionFlag with 0.\n",
    "import pandas as pd\n",
    "data=pd.read_excel(\"HospitalDatabase .xlsx\",sheet_name=\"ReAdmissionRegistry\")\n",
    "#fillna() can “fill in” NA values with non-NA data \n",
    "data.fillna({'ReadmissionFlag': 0})\n",
    "\n"
   ]
  },
  {
   "cell_type": "code",
   "execution_count": null,
   "id": "c07d2bbb",
   "metadata": {},
   "outputs": [],
   "source": [
    "\n",
    "\n",
    "              \n",
    "                   "
   ]
  },
  {
   "cell_type": "markdown",
   "id": "c9e66d4a",
   "metadata": {},
   "source": [
    "Q 16:Plot a graph to show the distribution of expected length of stay."
   ]
  },
  {
   "cell_type": "code",
   "execution_count": null,
   "id": "69beb129",
   "metadata": {},
   "outputs": [],
   "source": [
    "# Q 16.Plot a graph to show the distribution of expected length of stay.\n",
    "\n",
    "import pandas as pd\n",
    "import seaborn as sns\n",
    "import matplotlib.pyplot as plt\n",
    "data=pd.read_excel(\"HospitalDatabase .xlsx\",sheet_name=\"ReAdmissionRegistry\")\n",
    "sns.scatterplot(x='ExpectedLOS',y='PrimaryDiagnosis', data = data)\n",
    "plt.show()\n",
    "\n",
    "\n",
    "\n"
   ]
  },
  {
   "cell_type": "code",
   "execution_count": null,
   "id": "a88a37ec",
   "metadata": {},
   "outputs": [],
   "source": []
  },
  {
   "cell_type": "markdown",
   "id": "a16f0cd6",
   "metadata": {},
   "source": [
    "Q17:Create a heat map to show the correlation between the column values of Edvisits."
   ]
  },
  {
   "cell_type": "code",
   "execution_count": null,
   "id": "816e5d11",
   "metadata": {},
   "outputs": [],
   "source": [
    "# Q17:Create a heat map to show the correlation between the column values of Edvisits.\n",
    "\n",
    "import matplotlib.pyplot as plt\n",
    "import pandas as pd\n",
    "import seaborn as sns\n",
    "  \n",
    "# import file with data\n",
    "data=pd.read_excel(\"HospitalDatabase .xlsx\",sheet_name=\"EDVisits\")\n",
    "  \n",
    "# plotting correlation heatmap\n",
    "dataplot=sns.heatmap(data.corr())\n",
    "  \n",
    "# displaying heatmap\n",
    "plt.show()\n",
    "\n"
   ]
  },
  {
   "cell_type": "code",
   "execution_count": null,
   "id": "144b9c72",
   "metadata": {},
   "outputs": [],
   "source": []
  },
  {
   "cell_type": "markdown",
   "id": "17ab7a41",
   "metadata": {},
   "source": [
    "#Q18: Add column 'Age' in Patient table.\n",
    "\n"
   ]
  },
  {
   "cell_type": "code",
   "execution_count": null,
   "id": "ea1a544a",
   "metadata": {},
   "outputs": [],
   "source": [
    "#Q18: Add column 'Age' in Patient table.\n",
    "\n",
    "from datetime import datetime, date\n",
    "\n",
    "import pandas as pd\n",
    "data = pd.read_excel(\"HospitalDatabase .xlsx \", \"Patients\",)\n",
    "data['dob'] = pd.to_datetime(data.DateOfBirth)\n",
    "\"data['dob']\\n\",\n",
    "\n",
    "def age(born):\n",
    "    today = date.today()\n",
    "    return today.year - born.year - ((today.month, \n",
    "                                      today.day) < (born.month, \n",
    "                                                   born.day))\n",
    "\n",
    "data['Age'] = data['dob'].apply(age)\n",
    "print(data)\n"
   ]
  },
  {
   "cell_type": "code",
   "execution_count": null,
   "id": "891704c3",
   "metadata": {},
   "outputs": [],
   "source": []
  },
  {
   "cell_type": "markdown",
   "id": "a362c3f2",
   "metadata": {},
   "source": [
    "#Q19.Create a dataframe with date and time as columns, where the values are the discharge time from readmission registry sheet.\n"
   ]
  },
  {
   "cell_type": "code",
   "execution_count": null,
   "id": "6cb1c513",
   "metadata": {},
   "outputs": [],
   "source": [
    "#Q19.Create a dataframe with date and time as columns, where the values are the discharge time from readmission registry sheet.\n",
    "\n",
    "import pandas as pd\n",
    "Hospitalpatient = pd.read_excel(\"HospitalDatabase .xlsx\", \"ReAdmissionRegistry\")\n",
    "Hospitalpatient\n",
    "\n",
    "new_discharge = Hospitalpatient[['DischargeDate']].copy()\n",
    "print(new_discharge)\n",
    "\n",
    "\n",
    "\n",
    " "
   ]
  },
  {
   "cell_type": "code",
   "execution_count": null,
   "id": "6713ed01",
   "metadata": {},
   "outputs": [],
   "source": []
  },
  {
   "cell_type": "markdown",
   "id": "b4332884",
   "metadata": {},
   "source": [
    "#Q20.Count of number of patients admitted based on Primary Diagnosis and Service provided."
   ]
  },
  {
   "cell_type": "code",
   "execution_count": null,
   "id": "1972cf0c",
   "metadata": {},
   "outputs": [],
   "source": [
    "#Q20.Count of number of patients admitted based on Primary Diagnosis and Service provided\n",
    "\n",
    "import pandas as pd\n",
    "import numpy as np\n",
    "rd = pd.read_excel(\"HospitalDatabase .xlsx\", \"ReAdmissionRegistry\")\n",
    "rd\n",
    "#rd.drop(['AdmissionDate','DischargeDate','ReadmissionFlag','DaysToReadmission','DaysToReadmission','EDVisitAfterDischargeFlag'],inplace=True,axis=1)\n",
    "table = pd.pivot_table(rd,index=['Service','PrimaryDiagnosis'],aggfunc={'PatientID':np.count_nonzero})\n",
    "table\n"
   ]
  },
  {
   "cell_type": "code",
   "execution_count": null,
   "id": "4be721ac",
   "metadata": {},
   "outputs": [],
   "source": [
    "\n"
   ]
  },
  {
   "cell_type": "markdown",
   "id": "bd6f9a85",
   "metadata": {},
   "source": [
    "Q 21:Which demographic patients are prone to get stroke.\n"
   ]
  },
  {
   "cell_type": "code",
   "execution_count": null,
   "id": "1e9004c2",
   "metadata": {},
   "outputs": [],
   "source": [
    "# Q 21:Which demographic patients are prone to get stroke\n",
    "\n",
    "import pandas as pd\n",
    "df1 = pd.read_excel('HospitalDatabase .xlsx','Discharges' )\n",
    "df2 = pd.read_excel('HospitalDatabase .xlsx','Patients' )\n",
    "df = df1.merge(df2,on=\"PatientID\")\n",
    "df3=df.loc[(df['PrimaryDiagnosis'] == 'Stroke')]\n",
    "df3[['Race','Language','Gender']].value_counts().reset_index(name='Counts')\n",
    "\n",
    "\n",
    "\n"
   ]
  },
  {
   "cell_type": "code",
   "execution_count": null,
   "id": "be3ea305",
   "metadata": {},
   "outputs": [],
   "source": []
  },
  {
   "cell_type": "markdown",
   "id": "c600bbc6",
   "metadata": {},
   "source": [
    "# Q22:Create a dataframe with acuity and EDDisposition as the indices and the count of number of patients as the value.\n",
    "\n",
    "\n",
    "\n"
   ]
  },
  {
   "cell_type": "code",
   "execution_count": null,
   "id": "6869f423",
   "metadata": {},
   "outputs": [],
   "source": [
    "# Q22:Create a dataframe with acuity and EDDisposition as the indices and the count of number of patients as the value.\n",
    "import pandas as pd\n",
    "ED_Data=pd.read_excel(\"HospitalDatabase .xlsx\",sheet_name=\"EDUnique\")\n",
    "Data_Res=ED_Data[['Acuity','EDDisposition']].value_counts().reset_index(name='Patient Count')\n",
    "data_final = Data_Res.set_index(['Acuity','EDDisposition'])\n",
    "data_final\n",
    "\n"
   ]
  },
  {
   "cell_type": "code",
   "execution_count": null,
   "id": "5332f803",
   "metadata": {},
   "outputs": [],
   "source": []
  },
  {
   "cell_type": "markdown",
   "id": "d501c14d",
   "metadata": {},
   "source": [
    "Q23:write a function to find the center element in the list. (one element in odd length list,  two elements in even length list).\n"
   ]
  },
  {
   "cell_type": "code",
   "execution_count": 10,
   "id": "ac0d1f2c",
   "metadata": {},
   "outputs": [],
   "source": [
    "# Q23:write a function to find the center element in the list. (one element in odd length list, two elements in even length list).\n",
    "\n",
    "def findCenter(list):\n",
    "    if len(list)%2 == 0:\n",
    "        listType = \"even\"\n",
    "    elif len(list)%2 ==1:\n",
    "        listType = \"odd\"\n",
    "        \n",
    "    if listType == \"even\":\n",
    "        \n",
    "        indexOfFirstNumber = (int(len(list)/2)) - 1\n",
    "        indexOfSecondNumber = (int(len(list)/2))\n",
    "        #print(int (len(list)/2))\n",
    "        \n",
    "        print(\"This list is even. The first center number is \"+ str(list[indexOfFirstNumber]))\n",
    "        print(\"The second center number is \"+ str(list[indexOfSecondNumber]))\n",
    "    else:\n",
    "        indexOfCenterNumber = int((len(list)-1)/2)\n",
    "        print(\"This list is odd. The center number is \"+ str(list[indexOfCenterNumber]) )\n",
    "\n",
    "oddList = [1,2,3,4,5,6,7]\n",
    "evenList = [1,2,3,4,5,6,7,8]\n",
    "findCenter(oddList)\n",
    "findCenter(evenList)\n"
   ]
  },
  {
   "cell_type": "code",
   "execution_count": null,
   "id": "f8c1d783",
   "metadata": {},
   "outputs": [],
   "source": []
  },
  {
   "cell_type": "markdown",
   "id": "62114ff9",
   "metadata": {},
   "source": [
    "# Q24: Get the number of patients based on ReasonForVisit and EDDisposition (use stack/unstack functions).\n"
   ]
  },
  {
   "cell_type": "code",
   "execution_count": null,
   "id": "5a6e2951",
   "metadata": {},
   "outputs": [],
   "source": [
    "#Q24: Get the number of patients based on ReasonForVisit and EDDisposition (use stack/unstack functions).\n",
    "\n",
    "data = pd.read_excel(\"HospitalDatabase .xlsx\",sheet_name= \"EDUnique\", usecols=['PatientID','ReasonForVisit','EDDisposition'])\n",
    "stacked_data=data.stack(0)\n",
    "print(stacked_data)\n",
    "print( \"Number of patients \" + str(data.count()))\n",
    "\n",
    "\n"
   ]
  },
  {
   "cell_type": "code",
   "execution_count": null,
   "id": "d0d5b779",
   "metadata": {},
   "outputs": [],
   "source": [
    "\n"
   ]
  },
  {
   "cell_type": "markdown",
   "id": "62ccd241",
   "metadata": {},
   "source": [
    "# Q25: Plot a graph by counting the no. of patients in each department."
   ]
  },
  {
   "cell_type": "code",
   "execution_count": null,
   "id": "77342232",
   "metadata": {},
   "outputs": [],
   "source": [
    "# Q25: Plot a graph by counting the no. of patients in each department.\n",
    "import pandas as pd\n",
    "import numpy as np\n",
    "import matplotlib.pyplot as plt\n",
    "df=pd.read_excel(\"HospitalDatabase .xlsx\",sheet_name=\"AmbulatoryVisits\")\n",
    "df1 = df.groupby(['VisitDepartmentID']).size()\n",
    "df1.plot.bar()\n",
    "\n"
   ]
  },
  {
   "cell_type": "code",
   "execution_count": null,
   "id": "8014b13a",
   "metadata": {},
   "outputs": [],
   "source": [
    "\n"
   ]
  },
  {
   "cell_type": "markdown",
   "id": "bc880a50",
   "metadata": {},
   "source": [
    "#Q26:Using arrays and loops, find the count of patients based on gender."
   ]
  },
  {
   "cell_type": "code",
   "execution_count": null,
   "id": "fb521259",
   "metadata": {},
   "outputs": [],
   "source": [
    "#Q26:Using arrays and loops, find the count of patients based on gender.\n",
    "\n",
    "import pandas as pd\n",
    "df=pd.read_excel(\"HospitalDatabase .xlsx\",'Patients')\n",
    "count=int(len(df))\n",
    "k=0\n",
    "male_count=0\n",
    "female_count=0\n",
    "while(k<count):\n",
    "    if(df['Gender'].iat[k]==\"Male\"):\n",
    "        male_count+=1\n",
    "    else:\n",
    "        female_count+=1\n",
    "            \n",
    "    k+=1\n",
    "    print(\"Male:\",male_count,\"\\n\",\"Female:\",female_count)\n"
   ]
  },
  {
   "cell_type": "code",
   "execution_count": null,
   "id": "08bb3076",
   "metadata": {},
   "outputs": [],
   "source": []
  },
  {
   "cell_type": "markdown",
   "id": "09d76591",
   "metadata": {},
   "source": [
    "#Q 27: Plot a graph to count the patients based on discharge disposition.\n"
   ]
  },
  {
   "cell_type": "code",
   "execution_count": 12,
   "id": "cb8392a7",
   "metadata": {},
   "outputs": [],
   "source": [
    "\n",
    "#Q 27: Plot a graph to count the patients based on discharge disposition.\n",
    "\n",
    "import pandas as pd\n",
    "import numpy as np\n",
    "import matplotlib.pyplot as plt\n",
    "de = pd.read_excel(\"HospitalDatabase .xlsx\", \"Discharges\")\n",
    "de\n",
    "table = pd.pivot_table(de,index=['DischargeDisposition'],aggfunc={'PatientID':np.count_nonzero}).plot()\n",
    "plt.show()\n",
    "table\n",
    "\n"
   ]
  },
  {
   "cell_type": "code",
   "execution_count": null,
   "id": "c8fc8221",
   "metadata": {},
   "outputs": [],
   "source": []
  },
  {
   "cell_type": "markdown",
   "id": "dd89da35",
   "metadata": {},
   "source": [
    "#Q 28: Which reason of visit has maximum mortality rate."
   ]
  },
  {
   "cell_type": "code",
   "execution_count": 15,
   "id": "5c8107d3",
   "metadata": {},
   "outputs": [],
   "source": [
    "#Q 28: Which reason of visit has maximum mortality rate.\n",
    "\n",
    "import pandas as pd\n",
    "df1 = pd.read_excel(\"HospitalDatabase .xlsx\",sheet_name= \"EDVisits\") \n",
    "df2 = pd.read_excel(\"HospitalDatabase .xlsx\",sheet_name= \"ReAdmissionRegistry\")\n",
    "df3 = df1.merge(df2,on=\"PatientID\")  \n",
    "df4= df3.groupby('ReasonForVisit')['ExpectedMortality'].max().reset_index()\n",
    "df4.columns = ['Reasonforvisit', 'MaxOfcountmortality']\n",
    "df4"
   ]
  },
  {
   "cell_type": "code",
   "execution_count": null,
   "id": "68502fcb",
   "metadata": {},
   "outputs": [],
   "source": []
  },
  {
   "cell_type": "markdown",
   "id": "a9174675",
   "metadata": {},
   "source": [
    "#Q29:Calculate average LOS."
   ]
  },
  {
   "cell_type": "code",
   "execution_count": null,
   "id": "3b312db0",
   "metadata": {},
   "outputs": [],
   "source": [
    "#Q29:Calculate average LOS.\n",
    "\n",
    "import pandas as pd\n",
    "df1 = pd.read_excel('HospitalDatabase .xlsx','Discharges' )\n",
    "df2 = df1[\"ExpectedLOS\"].mean()\n",
    "df2\n"
   ]
  },
  {
   "cell_type": "code",
   "execution_count": null,
   "id": "93206bc4",
   "metadata": {},
   "outputs": [],
   "source": []
  },
  {
   "cell_type": "markdown",
   "id": "b2bcece4",
   "metadata": {},
   "source": [
    "#Q 30:Which patient id has most entries in readmission registry.\n"
   ]
  },
  {
   "cell_type": "code",
   "execution_count": null,
   "id": "50d98e46",
   "metadata": {},
   "outputs": [],
   "source": [
    "#Q 30:Which patient id has most entries in readmission registry.\n",
    "\n",
    "import pandas as pd\n",
    "df=pd.read_excel('HospitalDatabase .xlsx','ReAdmissionRegistry')\n",
    "df1=df['PatientID'].value_counts().idxmax()\n",
    "df1\n"
   ]
  },
  {
   "cell_type": "code",
   "execution_count": null,
   "id": "2cea057f",
   "metadata": {},
   "outputs": [],
   "source": []
  },
  {
   "cell_type": "markdown",
   "id": "ac9af301",
   "metadata": {},
   "source": [
    "#Q31:Find the count of White Spanish Male."
   ]
  },
  {
   "cell_type": "code",
   "execution_count": 16,
   "id": "490dbdfa",
   "metadata": {},
   "outputs": [
    {
     "name": "stdout",
     "output_type": "stream",
     "text": [
      "The number of White Spanish Males is 15\n"
     ]
    }
   ],
   "source": [
    "#Q31:Find the count of White Spanish Male.\n",
    "\n",
    "import pandas as pd\n",
    "data = pd.read_excel(\"HospitalDatabase .xlsx\",sheet_name= \"Patients\", usecols=['Race','Language','Gender'])\n",
    "Counter = 0\n",
    "for ind in data.index:\n",
    "    \n",
    "    Race=data['Race'][ind]\n",
    "    Language = data['Language'][ind]\n",
    "    Gender= data['Gender'][ind]\n",
    "    if Race == 'White' and Language =='Spanish'and Gender=='Male':\n",
    "        Counter = Counter+1\n",
    "        \n",
    "print('The number of White Spanish Males is '+str(Counter))   "
   ]
  },
  {
   "cell_type": "code",
   "execution_count": null,
   "id": "725621a5",
   "metadata": {},
   "outputs": [],
   "source": []
  },
  {
   "cell_type": "markdown",
   "id": "971e159e",
   "metadata": {},
   "source": [
    "#Q 32:Write a function to print the multiplication table of the given number."
   ]
  },
  {
   "cell_type": "code",
   "execution_count": null,
   "id": "b2d3dc3f",
   "metadata": {},
   "outputs": [],
   "source": [
    "#Q 32:Write a function to print the multiplication table of the given number.\n",
    "\n",
    "def mult_table(x):    \n",
    "    for i in range(1, 11):\n",
    "        print(str(x) + \"*\" +str(i) + \"=\" + str(x*i))\n",
    "\n",
    "mult_table(20)\n"
   ]
  },
  {
   "cell_type": "code",
   "execution_count": null,
   "id": "0fc4c378",
   "metadata": {},
   "outputs": [],
   "source": []
  },
  {
   "cell_type": "markdown",
   "id": "c94eaa08",
   "metadata": {},
   "source": [
    "#Q33:Using a bar chart, which Service had the lowest count of Expected Mortality?"
   ]
  },
  {
   "cell_type": "code",
   "execution_count": null,
   "id": "e0e93e3e",
   "metadata": {},
   "outputs": [],
   "source": [
    "#Q33:Using a bar chart, which Service had the lowest count of Expected Mortality?\n",
    "\n",
    "import pandas as pd\n",
    "import numpy as np\n",
    "import matplotlib.pyplot as plt\n",
    "df=pd.read_excel(\"HospitalDatabase .xlsx\",sheet_name=\"Discharges\")\n",
    "plt.bar(df['Service'],df['ExpectedMortality'])\n",
    "plt.title('service vs ExpectedMortality')\n",
    "plt.xlabel('Service')\n",
    "plt.ylabel('ExpectedMortality')\n",
    "plt.show()\n"
   ]
  },
  {
   "cell_type": "code",
   "execution_count": null,
   "id": "1bf11372",
   "metadata": {},
   "outputs": [],
   "source": []
  },
  {
   "cell_type": "markdown",
   "id": "db985047",
   "metadata": {},
   "source": [
    "#Q34: np.arange(1,31).reshape(6,5) Find the array slicing to get the elements with values 11,12,16,17."
   ]
  },
  {
   "cell_type": "code",
   "execution_count": null,
   "id": "70f99e7c",
   "metadata": {},
   "outputs": [],
   "source": [
    "#Q34: np.arange(1,31).reshape(6,5) Find the array slicing to get the elements with values 11,12,16,17.\n",
    "\n",
    "import numpy as np\n",
    "a = np.arange(1,31)\n",
    "a_6_5 = a.reshape([6,5])\n",
    "\n",
    "print(a_6_5)\n",
    "print( str(a_6_5[2,0]) + \" ,\" + str(a_6_5[2,1])+ \",\" + str(a_6_5[3,0]) + \",\" + str(a_6_5[3,1]))\n"
   ]
  },
  {
   "cell_type": "code",
   "execution_count": null,
   "id": "ad2caf4a",
   "metadata": {},
   "outputs": [],
   "source": []
  },
  {
   "cell_type": "markdown",
   "id": "e3967980",
   "metadata": {},
   "source": [
    "#Q35:np.arange(1,31).reshape(6,5), find array slicing for elements 2,8,14,20."
   ]
  },
  {
   "cell_type": "code",
   "execution_count": 18,
   "id": "f0e480cc",
   "metadata": {},
   "outputs": [],
   "source": [
    "#Q35:np.arange(1,31).reshape(6,5), find array slicing for elements 2,8,14,20.\n",
    "\n",
    "import numpy as np\n",
    "a = np.arange(1,31)\n",
    "a_6_5 = a.reshape([6,5])\n",
    "\n",
    "print(a_6_5)\n",
    "print( str(a_6_5[0,1]) + \" ,\" + str(a_6_5[1,2])+ \",\" + str(a_6_5[2,3]) + \",\" + str(a_6_5[3,4]))\n"
   ]
  },
  {
   "cell_type": "code",
   "execution_count": null,
   "id": "49225efa",
   "metadata": {},
   "outputs": [],
   "source": []
  },
  {
   "cell_type": "markdown",
   "id": "bd2e5ca2",
   "metadata": {},
   "source": [
    "#Q 36: Create a correlation matrix on EDVisits"
   ]
  },
  {
   "cell_type": "code",
   "execution_count": null,
   "id": "4f899422",
   "metadata": {},
   "outputs": [],
   "source": [
    "#Q 36: Create a correlation matrix on EDVisits\n",
    "\n",
    "import pandas  as pd\n",
    "import numpy as np\n",
    "edv = pd.read_excel(\"HospitalDatabase .xlsx\", \"EDVisits\")\n",
    "edv\n",
    "matrix = edv.corr()\n",
    "print(\"Correlation matrix is :\")\n",
    "print(matrix)\n"
   ]
  },
  {
   "cell_type": "code",
   "execution_count": null,
   "id": "a2607a77",
   "metadata": {},
   "outputs": [],
   "source": []
  },
  {
   "cell_type": "markdown",
   "id": "5b6f18ee",
   "metadata": {},
   "source": [
    "#Q 37:Write a function to print all the upper case letter of a given sentence."
   ]
  },
  {
   "cell_type": "code",
   "execution_count": null,
   "id": "0a609b78",
   "metadata": {},
   "outputs": [],
   "source": [
    "#Q 37:Write a function to print all the upper case letter of a given sentence.\n",
    "def uppercase_function(tx1):\n",
    "     res = [char for char in tx1 if char.isupper()]\n",
    "     print(\"The uppercase characters in string are : \" + str(res))\n",
    "\n",
    "uppercase_function(input(\"Enter a sentence:\"))\n",
    "\n"
   ]
  },
  {
   "cell_type": "code",
   "execution_count": null,
   "id": "03c6c232",
   "metadata": {},
   "outputs": [],
   "source": []
  },
  {
   "cell_type": "markdown",
   "id": "30afc13e",
   "metadata": {},
   "source": [
    "#Q38:Number of patients on 'Transfer' based on primary diagnosis"
   ]
  },
  {
   "cell_type": "code",
   "execution_count": null,
   "id": "2ad2a32a",
   "metadata": {},
   "outputs": [],
   "source": [
    "#Q38:Number of patients on 'Transfer' based on primary diagnosis\n",
    "\n",
    "import pandas as pd\n",
    "df= pd.read_excel('HospitalDatabase .xlsx','Discharges')\n",
    "df1=df.loc[(df['DischargeDisposition'] == 'Transfer')]\n",
    "df1[['PrimaryDiagnosis','DischargeDisposition']].value_counts().reset_index(name='Counts')\n"
   ]
  },
  {
   "cell_type": "code",
   "execution_count": null,
   "id": "64c90701",
   "metadata": {},
   "outputs": [],
   "source": []
  },
  {
   "cell_type": "markdown",
   "id": "163f4856",
   "metadata": {},
   "source": [
    "#Q39:Get the FirstName, LastName, DateOfBirth of the Patients whose reason for visit is Migraine. Use EDUnique Sheet for reason for visit."
   ]
  },
  {
   "cell_type": "code",
   "execution_count": null,
   "id": "43ad2ed3",
   "metadata": {},
   "outputs": [],
   "source": [
    "#Q39:Get the FirstName, LastName, DateOfBirth of the Patients whose reason for visit is Migraine. Use EDUnique Sheet for reason for visit.\n",
    "\n",
    "import pandas as pd\n",
    "\n",
    "data = pd.read_excel(\"HospitalDatabase .xlsx\", sheet_name= \"EDUnique\",usecols=['PatientID','ReasonForVisit'])\n",
    "ReasonForVisitlist = []\n",
    "\n",
    "for ind in data.index:\n",
    "    ReasonForVisit=data['ReasonForVisit'][ind]\n",
    "    PatientID = data['PatientID'][ind]\n",
    "    if ReasonForVisit == \"Migraine\":\n",
    "        ReasonForVisitlist.append(PatientID)\n",
    "\n",
    "PatientData = pd.read_excel(\"HospitalDatabase .xlsx\", sheet_name= \"Patients\",usecols=['PatientID','FirstName','LastName','DateOfBirth'])\n",
    "print(\"FirstName  LastName  DateOfBirth ReasonForVisit\")\n",
    "print(\"------------------------------------------------\")\n",
    "for patientIndex in PatientData.index:\n",
    "    \n",
    "    FirstName = PatientData['FirstName'][patientIndex]\n",
    "    PatientID = PatientData['PatientID'][patientIndex]\n",
    "    LastName = PatientData['LastName'][patientIndex]\n",
    "    DateOfBirth= PatientData['DateOfBirth'][patientIndex]\n",
    "\n",
    "    if PatientID in ReasonForVisitlist:\n",
    "        \n",
    "        print(FirstName + \" \" + LastName + \" \" +  str(DateOfBirth) + \"  Migrane\")\n",
    "\n",
    "\n"
   ]
  },
  {
   "cell_type": "code",
   "execution_count": null,
   "id": "210fa1dd",
   "metadata": {},
   "outputs": [],
   "source": []
  },
  {
   "cell_type": "markdown",
   "id": "fcccf2f5",
   "metadata": {},
   "source": [
    "#Q 40:Plot a graph showing the count of patients for the reason visited the hospital."
   ]
  },
  {
   "cell_type": "code",
   "execution_count": null,
   "id": "0b167dd8",
   "metadata": {},
   "outputs": [],
   "source": [
    "#Q 40:Plot a graph showing the count of patients for the reason visited the hospital.\n",
    "import pandas as pd\n",
    "data=pd.read_excel(\"HospitalDatabase .xlsx\",sheet_name=\"EDVisits\", usecols=['PatientID','ReasonForVisit'])\n",
    "grouped_multiple = data.groupby(['ReasonForVisit']).agg({'PatientID': ['count']})\n",
    "grouped_multiple.columns = ['count of patients']\n",
    "grouped_multiple = grouped_multiple.reset_index()\n",
    "print(grouped_multiple)\n",
    "import seaborn as sns\n",
    "import matplotlib.pyplot as plt\n",
    "sns.barplot(y='ReasonForVisit', x='count of patients', data=grouped_multiple)\n",
    "plt.show()\n"
   ]
  },
  {
   "cell_type": "code",
   "execution_count": null,
   "id": "804ef03c",
   "metadata": {},
   "outputs": [],
   "source": []
  },
  {
   "cell_type": "markdown",
   "id": "e66a79ff",
   "metadata": {},
   "source": [
    "#Q41: Find the visit type with maximum 'No Show'."
   ]
  },
  {
   "cell_type": "code",
   "execution_count": null,
   "id": "daa145bb",
   "metadata": {},
   "outputs": [],
   "source": [
    "#Q41: Find the visit type with maximum 'No Show'.\n",
    "\n",
    "import pandas as pd\n",
    "import numpy as np\n",
    "df=pd.read_excel(\"HospitalDatabase .xlsx\",sheet_name=\"AmbulatoryVisits\")\n",
    "df1=df.groupby('VisitStatus')\n",
    "df2=df1.get_group('No Show').max()\n",
    "print(df2['VisitType'])\n"
   ]
  },
  {
   "cell_type": "code",
   "execution_count": null,
   "id": "6c7571f5",
   "metadata": {},
   "outputs": [],
   "source": []
  },
  {
   "cell_type": "markdown",
   "id": "0b5e20dd",
   "metadata": {},
   "source": [
    "#Q42: Using loc , get the details of the providers where providerId is between 11 and 20 and ProviderSpecialty is Surgery.\n"
   ]
  },
  {
   "cell_type": "code",
   "execution_count": null,
   "id": "98d7bd39",
   "metadata": {},
   "outputs": [],
   "source": [
    "#Q42: Using loc , get the details of the providers where providerId is between 11 and 20 and ProviderSpecialty is Surgery.\n",
    "import pandas as pd\n",
    "df= pd.read_excel('HospitalDatabase .xlsx','Providers')\n",
    "ProviderID= df[\"ProviderID\"].unique()\n",
    "columns='Provider'\n",
    "count=int(len(\"ProviderSpecialty\"))\n",
    "i=10\n",
    "while (i <count ):\n",
    "    df1=df.loc[(df[\"ProviderSpecialty\"] == \"Surgery\") & (df[\"ProviderID\"] ==  ProviderID[i])]\n",
    "    print(df1)\n",
    "    i+=1\n"
   ]
  },
  {
   "cell_type": "code",
   "execution_count": null,
   "id": "92242890",
   "metadata": {},
   "outputs": [],
   "source": []
  },
  {
   "cell_type": "markdown",
   "id": "3556763c",
   "metadata": {},
   "source": [
    "#Q43:Write a regular expression to find all the digits and numbers in the string."
   ]
  },
  {
   "cell_type": "code",
   "execution_count": null,
   "id": "ac6852ef",
   "metadata": {},
   "outputs": [],
   "source": [
    "#Q43:Write a regular expression to find all the digits and numbers in the string.\n",
    "import re\n",
    "re.findall(r'[0-9]+', 'abc123xyz')\n"
   ]
  },
  {
   "cell_type": "code",
   "execution_count": null,
   "id": "8757b280",
   "metadata": {},
   "outputs": [],
   "source": []
  },
  {
   "cell_type": "markdown",
   "id": "79f32af8",
   "metadata": {},
   "source": [
    "#Q44:Create a pivot table displaying average LOS based on Service and Primary Diagnosis."
   ]
  },
  {
   "cell_type": "code",
   "execution_count": null,
   "id": "d59e9fa3",
   "metadata": {},
   "outputs": [],
   "source": [
    "#Q44:Create a pivot table displaying average LOS based on Service and Primary Diagnosis.\n",
    "import pandas as pd\n",
    "import numpy as np\n",
    "rd = pd.read_excel(\"HospitalDatabase .xlsx\", \"ReAdmissionRegistry\")\n",
    "rd\n",
    "#rd.drop(['AdmissionDate','DischargeDate','ReadmissionFlag','DaysToReadmission','DaysToReadmission','EDVisitAfterDischargeFlag'],inplace=True,axis=1)\n",
    "table = pd.pivot_table(rd,index=['Service','PrimaryDiagnosis'],aggfunc={'ExpectedLOS':np.mean})\n",
    "table\n"
   ]
  },
  {
   "cell_type": "code",
   "execution_count": null,
   "id": "e83d37b1",
   "metadata": {},
   "outputs": [],
   "source": []
  },
  {
   "cell_type": "markdown",
   "id": "dcaa4444",
   "metadata": {},
   "source": [
    "#Q45:Calculate mortality by diagnosis.\n"
   ]
  },
  {
   "cell_type": "code",
   "execution_count": null,
   "id": "ad996755",
   "metadata": {},
   "outputs": [],
   "source": [
    "#Q45:Calculate mortality by diagnosis.\n",
    "\n",
    "import pandas as pd\n",
    "df= pd.read_excel('HospitalDatabase .xlsx','Discharges')\n",
    "Diagnosis= df[\"PrimaryDiagnosis\"].unique()\n",
    "count=int(len(Diagnosis))\n",
    "i=0\n",
    "while (i < count):\n",
    "    df1=df.loc[(df['DischargeDisposition'] == \"Expired\") & (df['PrimaryDiagnosis'] ==    Diagnosis[i])]\n",
    "    df2=df.loc[(df['PrimaryDiagnosis'] == Diagnosis[i])]\n",
    "    exp_num = int(len(df1))\n",
    "    total_num= int(len(df2))\n",
    "    mortality= exp_num/total_num\n",
    "    print(\" Primary Diagnosis: \",Diagnosis[i],\"\\n\",\"Mortality: \",mortality,\"\\n\")\n",
    "    i+=1\n"
   ]
  },
  {
   "cell_type": "code",
   "execution_count": null,
   "id": "8ea50957",
   "metadata": {},
   "outputs": [],
   "source": []
  },
  {
   "cell_type": "markdown",
   "id": "8ffd94fe",
   "metadata": {},
   "source": [
    "#Q46:Write a code to split a sentence into words using regex.\n"
   ]
  },
  {
   "cell_type": "code",
   "execution_count": null,
   "id": "75334aa9",
   "metadata": {},
   "outputs": [],
   "source": [
    "#Q46:Write a code to split a sentence into words using regex.\n",
    "\n",
    "import re\n",
    "target_string=input(\"Enter a sentence:\")\n",
    "output_words= list(filter(None, re.split(r\"[-;,?.\\s]\\s*\", target_string)))\n",
    "print(output_words)\n",
    "\n"
   ]
  },
  {
   "cell_type": "code",
   "execution_count": null,
   "id": "0f0a1721",
   "metadata": {},
   "outputs": [],
   "source": []
  },
  {
   "cell_type": "markdown",
   "id": "d9ad4231",
   "metadata": {},
   "source": [
    "#Q47:Using indexing , loc to retrieve the row with maximum BloodPressureSystolic."
   ]
  },
  {
   "cell_type": "code",
   "execution_count": null,
   "id": "232497c6",
   "metadata": {},
   "outputs": [],
   "source": [
    "#Q47:Using indexing , loc to retrieve the row with maximum BloodPressureSystolic.\n",
    "import pandas as pd\n",
    "data=pd.read_excel(\"HospitalDatabase .xlsx\",sheet_name=\"AmbulatoryVisits\")\n",
    "Max_BP_SYS = 0\n",
    "\n",
    "for ind in data.index:\n",
    "    New_BP_SYS=data['BloodPressureSystolic'][ind]\n",
    "    if New_BP_SYS > Max_BP_SYS :\n",
    "        Max_BP_SYS = New_BP_SYS\n",
    "\n",
    "data1=data.loc[(data['BloodPressureSystolic'] == Max_BP_SYS)]\n",
    "print(data1)\n"
   ]
  },
  {
   "cell_type": "code",
   "execution_count": null,
   "id": "21729ed0",
   "metadata": {},
   "outputs": [],
   "source": []
  },
  {
   "cell_type": "markdown",
   "id": "68a67783",
   "metadata": {},
   "source": [
    "#Q48:Display the average LOS based on Service and Discharge Disposition(Maintain the column Hierarchy)."
   ]
  },
  {
   "cell_type": "code",
   "execution_count": null,
   "id": "ac29f7c5",
   "metadata": {},
   "outputs": [],
   "source": [
    "#Q48:Display the average LOS based on Service and Discharge Disposition(Maintain the column Hierarchy).\n",
    "\n",
    "import pandas as pd\n",
    "data=pd.read_excel(\"HospitalDatabase .xlsx\",sheet_name=\"Discharges\", usecols=['DischargeDisposition','Service','ExpectedLOS'])\n",
    "\n",
    "\n",
    "grouped_multiple = data.groupby(['DischargeDisposition','Service']).agg({'ExpectedLOS': ['mean']})\n",
    "#grouped_multiple = data.groupby(['Service','DischargeDisposition']).agg({'ExpectedLOS': ['mean']})\n",
    "grouped_multiple.columns = ['Average_LOS']\n",
    "grouped_multiple = grouped_multiple.reset_index()\n",
    "print(grouped_multiple)\n"
   ]
  },
  {
   "cell_type": "code",
   "execution_count": null,
   "id": "0eb2bf4b",
   "metadata": {},
   "outputs": [],
   "source": []
  },
  {
   "cell_type": "markdown",
   "id": "efa6720a",
   "metadata": {},
   "source": [
    "#Q49:Retrieve the rows where SBP<140 and DBP<80.\n"
   ]
  },
  {
   "cell_type": "code",
   "execution_count": null,
   "id": "c3353a74",
   "metadata": {},
   "outputs": [],
   "source": [
    "#Q49:Retrieve the rows where SBP<140 and DBP<80.\n",
    "import pandas as pd\n",
    "data=pd.read_excel(\"HospitalDatabase .xlsx\",sheet_name=\"AmbulatoryVisits\")\n",
    "Max_BP_SYS = 140\n",
    "Max_BP_DIA = 80\n",
    "\n",
    "for ind in data.index:\n",
    "    New_BP_SYS=data['BloodPressureSystolic'][ind]\n",
    "    New_BP_DIA=data['BloodPressureDiastolic'][ind]\n",
    "    if New_BP_SYS < Max_BP_SYS :\n",
    "        Max_BP_SYS = New_BP_SYS \n",
    "data1=data.loc[(data['BloodPressureSystolic'] == Max_BP_SYS)]\n",
    "if  New_BP_DIA < Max_BP_DIA :\n",
    "    Max_BP_DIA = New_BP_DIA   \n",
    "data2=data.loc[(data['BloodPressureDiastolic']==Max_BP_DIA)]\n",
    "print(data1,data2)\n"
   ]
  },
  {
   "cell_type": "code",
   "execution_count": null,
   "id": "aa23728d",
   "metadata": {},
   "outputs": [],
   "source": []
  },
  {
   "cell_type": "markdown",
   "id": "a9b7ba53",
   "metadata": {},
   "source": [
    "#Q50:Which departmentID has maximum number of visits scheduled."
   ]
  },
  {
   "cell_type": "code",
   "execution_count": null,
   "id": "9c0c83ac",
   "metadata": {},
   "outputs": [],
   "source": [
    "#Q50:Which departmentID has maximum number of visits scheduled.\n",
    "import pandas as pd\n",
    "import numpy as np\n",
    "df = pd.read_excel(\"HospitalDatabase .xlsx\",sheet_name=\"AmbulatoryVisits\")\n",
    "df1 = df.groupby(['VisitDepartmentID']).size()\n",
    "df2 = max(df1)\n",
    "print(df1)\n",
    "\n"
   ]
  },
  {
   "cell_type": "code",
   "execution_count": null,
   "id": "e51625d3",
   "metadata": {},
   "outputs": [],
   "source": []
  },
  {
   "cell_type": "markdown",
   "id": "552e3607",
   "metadata": {},
   "source": [
    "#Q51:Display patient details where \"ReasonForVisit\" is either 'Migraine' or 'Pneumonia' and Acuity is 2 or more.\n"
   ]
  },
  {
   "cell_type": "code",
   "execution_count": null,
   "id": "05c88ea3",
   "metadata": {},
   "outputs": [],
   "source": [
    "#Q51:Display patient details where \"ReasonForVisit\" is either 'Migraine' or 'Pneumonia' and Acuity is 2 or more.\n",
    "import pandas as pd\n",
    "import numpy as np\n",
    "dataframe= pd.read_excel(\"HospitalDatabase .xlsx\", \"EDVisits\")\n",
    "dataframe\n",
    "options = ['Migraine', 'Pneumonia']\n",
    "rslt_df = dataframe.loc[dataframe['Acuity'] >= 2 & dataframe['ReasonForVisit'].isin(options)]\n",
    "print('\\nResult dataframe :\\n', rslt_df)\n",
    "\n"
   ]
  },
  {
   "cell_type": "code",
   "execution_count": null,
   "id": "4c8b06ab",
   "metadata": {},
   "outputs": [],
   "source": []
  },
  {
   "cell_type": "markdown",
   "id": "3aee08ca",
   "metadata": {},
   "source": [
    "#Q52:Retrieve the row with minimum DBP using sorting technique."
   ]
  },
  {
   "cell_type": "code",
   "execution_count": null,
   "id": "67b7d406",
   "metadata": {},
   "outputs": [],
   "source": [
    "#Q52:Retrieve the row with minimum DBP using sorting technique.\n",
    "import pandas as pd\n",
    "import numpy as np\n",
    "df= pd.read_excel(\"HospitalDatabase .xlsx\", \"AmbulatoryVisits\")\n",
    "df\n",
    "print(df[df.BloodPressureDiastolic == df.BloodPressureDiastolic.min()])\n"
   ]
  },
  {
   "cell_type": "code",
   "execution_count": null,
   "id": "6adb1087",
   "metadata": {},
   "outputs": [],
   "source": []
  },
  {
   "cell_type": "markdown",
   "id": "c141b450",
   "metadata": {},
   "source": [
    "#Q53:Take the ReasonForVisit from user, find the number of patients admitted with that ReasonForVisit"
   ]
  },
  {
   "cell_type": "code",
   "execution_count": null,
   "id": "4dce80ad",
   "metadata": {},
   "outputs": [],
   "source": [
    "#Q53:Take the ReasonForVisit from user, find the number of patients admitted with that ReasonForVisit\n",
    "import pandas as pd\n",
    "df= pd.read_excel('HospitalDatabase .xlsx','EDVisits')\n",
    "Reason= input(\"Enter reason of visit:\")\n",
    "df1=df.loc[(df['ReasonForVisit'] == Reason) & (df['EDDisposition'] == 'Admitted')]\n",
    "df1.shape[0]\n"
   ]
  },
  {
   "cell_type": "code",
   "execution_count": null,
   "id": "0ec2c3ea",
   "metadata": {},
   "outputs": [],
   "source": []
  },
  {
   "cell_type": "markdown",
   "id": "b16b72f5",
   "metadata": {},
   "source": [
    "#Q54:Mortality O.E.\n"
   ]
  },
  {
   "cell_type": "code",
   "execution_count": null,
   "id": "38f1e72c",
   "metadata": {},
   "outputs": [],
   "source": [
    "#Q54:Mortality O.E.\n",
    "import pandas as pd\n",
    "df= pd.read_excel('HospitalDatabase .xlsx','Discharges')\n",
    "df1=df.loc[(df['DischargeDisposition'] == \"Expired\")]\n",
    "expired=len(df1)\n",
    "total=len(df)\n",
    "observed_mortality = expired/total\n",
    "obsv_mortality = round(observed_mortality,2)\n",
    "df2=df['ExpectedMortality'].sum()\n",
    "expected_mortality = df2/total\n",
    "exp_mortality = round(expected_mortality,2)\n",
    "print(\"O.E.Mortality: \",obsv_mortality,\":\",exp_mortality)\n"
   ]
  },
  {
   "cell_type": "code",
   "execution_count": null,
   "id": "51f874a2",
   "metadata": {},
   "outputs": [],
   "source": []
  },
  {
   "cell_type": "markdown",
   "id": "48b125d1",
   "metadata": {},
   "source": [
    "#Q55:Create a bar chart on service & expected length of stay.\n"
   ]
  },
  {
   "cell_type": "code",
   "execution_count": null,
   "id": "0507cb01",
   "metadata": {},
   "outputs": [],
   "source": [
    "#Q55:Create a bar chart on service & expected length of stay.\n",
    "import pandas as pd\n",
    "import seaborn as sns\n",
    "import matplotlib.pyplot as plt\n",
    "data=pd.read_excel(\"HospitalDatabase .xlsx\",sheet_name=\"Discharges\")\n",
    "sns.barplot(x='ExpectedLOS', y='Service', data=data)\n",
    "plt.show()\n"
   ]
  },
  {
   "cell_type": "code",
   "execution_count": null,
   "id": "0df471e4",
   "metadata": {},
   "outputs": [],
   "source": []
  },
  {
   "cell_type": "markdown",
   "id": "9eb5e85e",
   "metadata": {},
   "source": [
    "#Q56:Count of canceled status."
   ]
  },
  {
   "cell_type": "code",
   "execution_count": null,
   "id": "315eb001",
   "metadata": {},
   "outputs": [],
   "source": [
    "#Q56:Count of canceled status.\n",
    "import pandas as pd\n",
    "\n",
    "data=pd.read_excel(\"HospitalDatabase .xlsx\",sheet_name=\"AmbulatoryVisits\", usecols= ['VisitID','VisitStatus'])\n",
    "Counter = 0\n",
    "for ind in data.index:\n",
    "    VisitStatus=data['VisitStatus'][ind]\n",
    "    VisitID = data['VisitID'][ind]\n",
    "    if VisitStatus == \"Canceled\":\n",
    "        Counter = Counter+1\n",
    "        \n",
    "\n",
    "print('The count of canceled status is '+str(Counter))\n"
   ]
  },
  {
   "cell_type": "code",
   "execution_count": null,
   "id": "b5a497a6",
   "metadata": {},
   "outputs": [],
   "source": []
  },
  {
   "cell_type": "markdown",
   "id": "d90d6377",
   "metadata": {},
   "source": [
    "#Q57:Find the age prone to get stroke.\n"
   ]
  },
  {
   "cell_type": "code",
   "execution_count": null,
   "id": "0b224201",
   "metadata": {},
   "outputs": [],
   "source": [
    "#Q57:Find the age prone to get stroke.\n",
    "import pandas as pd\n",
    "from datetime import datetime, date\n",
    "df2 = pd.read_excel('HospitalDatabase .xlsx','Patients' )\n",
    "df2['dob'] = pd.to_datetime(df2.DateOfBirth)\n",
    "\"data['dob']\\n\",\n",
    "\n",
    "def age(born):\n",
    "    today = date.today()\n",
    "    return today.year - born.year - ((today.month,\n",
    "                  today.day) < (born.month,\n",
    "                                 born.day))\n",
    "\n",
    "df2['Age'] = df2['dob'].apply(age)\n",
    "\n",
    "df1 = pd.read_excel('HospitalDatabase .xlsx','Discharges' )\n",
    "\n",
    "df = df1.merge(df2,on=\"PatientID\")\n",
    "\n",
    "df3=df.loc[(df['PrimaryDiagnosis'] == 'Stroke')]\n",
    "df3['Age'].value_counts()\n"
   ]
  },
  {
   "cell_type": "code",
   "execution_count": null,
   "id": "42211b26",
   "metadata": {},
   "outputs": [],
   "source": []
  },
  {
   "cell_type": "markdown",
   "id": "944dbe33",
   "metadata": {},
   "source": [
    "#Q58:Display total count of patients service wise based on gender.\n",
    "\n"
   ]
  },
  {
   "cell_type": "code",
   "execution_count": null,
   "id": "1f60ec96",
   "metadata": {},
   "outputs": [],
   "source": [
    "#Q58:Display total count of patients service wise based on gender.\n",
    "import pandas as pd\n",
    "df1 = pd.read_excel('HospitalDatabase .xlsx','Discharges' )\n",
    "df2 = pd.read_excel('HospitalDatabase .xlsx','Patients' )\n",
    "df = df1.merge(df2,on=\"PatientID\")\n",
    "df[['Service','Gender']].value_counts().reset_index(name='Counts')\n"
   ]
  },
  {
   "cell_type": "code",
   "execution_count": null,
   "id": "9d7fee6b",
   "metadata": {},
   "outputs": [],
   "source": []
  },
  {
   "cell_type": "code",
   "execution_count": null,
   "id": "d77d5ccb",
   "metadata": {},
   "outputs": [],
   "source": [
    "#Q59:Create a dataframe by splitting provider name to firstname and lastname with names for the columns.\n",
    "\n",
    "import pandas as pd\n",
    "import numpy as np\n",
    "import matplotlib.pyplot as plt\n",
    "pd= pd.read_excel(\"HospitalDatabase .xlsx\", \"Providers\")\n",
    "\n",
    "#pd.dropna(inplace = True)\n",
    "newpd = pd[\"ProviderName\"].str.split(\" \", n = 1, expand = True)\n",
    "newpd\n",
    "pd[\"First Name\"]= new[0]\n",
    "pd[\"Last Name\"]= new[1]\n",
    "pd.drop(columns =[\"ProviderName\"], inplace = True)\n",
    "pd\n"
   ]
  },
  {
   "cell_type": "code",
   "execution_count": null,
   "id": "df18c404",
   "metadata": {},
   "outputs": [],
   "source": []
  },
  {
   "cell_type": "markdown",
   "id": "6183172f",
   "metadata": {},
   "source": [
    "#Q60: Find the list of patients whose ExpectedLOS is greater than the value given by the user."
   ]
  },
  {
   "cell_type": "code",
   "execution_count": null,
   "id": "839fac02",
   "metadata": {},
   "outputs": [],
   "source": [
    "#Q60: Find the list of patients whose ExpectedLOS is greater than the value given by the user.\n",
    "import pandas as pd\n",
    "df= pd.read_excel('HospitalDatabase .xlsx','Discharges')\n",
    "Reason = int(input(\"Please enter a value: \"))\n",
    "df1=df.loc[(df['ExpectedLOS'] > Reason)]\n",
    "df1\n"
   ]
  },
  {
   "cell_type": "code",
   "execution_count": null,
   "id": "f3b86a44",
   "metadata": {},
   "outputs": [],
   "source": []
  },
  {
   "cell_type": "markdown",
   "id": "a9b6f70a",
   "metadata": {},
   "source": [
    "#Q61:Plot a graph by multiplotting on the same canvas  (Take any set of x & y values)."
   ]
  },
  {
   "cell_type": "code",
   "execution_count": null,
   "id": "22216dd0",
   "metadata": {},
   "outputs": [],
   "source": [
    "#Q61:Plot a graph by multiplotting on the same canvas  (Take any set of x & y values).\n",
    "\n",
    "import matplotlib.pyplot as plt\n",
    "import numpy as np\n",
    "import math\n",
    "x = np.arange(0, math.pi*2, 0.05)\n",
    "fig=plt.figure()\n",
    "axes1 = fig.add_axes([0.1, 0.1, 0.8, 0.8])\n",
    "axes2 = fig.add_axes([0.55, 0.55, 0.3, 0.3])\n",
    "y = np.sin(x)\n",
    "axes1.plot(x, y, 'b')\n",
    "axes2.plot(x, y,'r')\n",
    "axes1.set_title('sine in blue')\n",
    "axes2.set_title(\"sine in red\")\n",
    "plt.show()\n"
   ]
  },
  {
   "cell_type": "code",
   "execution_count": null,
   "id": "af5d0e7f",
   "metadata": {},
   "outputs": [],
   "source": []
  },
  {
   "cell_type": "markdown",
   "id": "885e7ea4",
   "metadata": {},
   "source": [
    "#Q62:Display the data for all 'White Female' patients above the age of 50."
   ]
  },
  {
   "cell_type": "code",
   "execution_count": null,
   "id": "df5c3a6a",
   "metadata": {},
   "outputs": [],
   "source": [
    "#Q62:Display the data for all 'White Female' patients above the age of 50.\n",
    "import pandas as pd\n",
    "import datetime\n",
    "df= pd.read_excel('HospitalDatabase .xlsx','Patients')\n",
    "cur_year = datetime.datetime.today().year\n",
    "cur_month = datetime.datetime.today().month\n",
    "cur_day = datetime.datetime.today().day\n",
    "res_year1= cur_year-50\n",
    "res_year= res_year1%100\n",
    "res_dob = str(cur_month)+\"/\"+str(cur_day)+\"/\"+str(res_year)\n",
    "df1=df.loc[(df['DateOfBirth'] <= res_dob) & (df['Race'] == 'White') & (df['Gender'] == 'Female')]\n",
    "df1\n"
   ]
  },
  {
   "cell_type": "code",
   "execution_count": null,
   "id": "89151f06",
   "metadata": {},
   "outputs": [],
   "source": []
  },
  {
   "cell_type": "markdown",
   "id": "78d38a14",
   "metadata": {},
   "source": [
    "#Q63:Using loc, retrieve the firstname and lastname of patients between indices 101 and 200.\n"
   ]
  },
  {
   "cell_type": "code",
   "execution_count": null,
   "id": "233aab21",
   "metadata": {},
   "outputs": [],
   "source": [
    "#Q63:Using loc, retrieve the firstname and lastname of patients between indices 101 and 200.\n",
    "import pandas as pd\n",
    "dataset = pd.read_excel(\"HospitalDatabase .xlsx\",sheet_name=\"Patients\")\n",
    "print(dataset.loc[101:201,'FirstName':'LastName'])\n"
   ]
  },
  {
   "cell_type": "code",
   "execution_count": null,
   "id": "3d92d6ef",
   "metadata": {},
   "outputs": [],
   "source": []
  },
  {
   "cell_type": "markdown",
   "id": "9ad7c1c1",
   "metadata": {},
   "source": [
    "#Q64:Using numpy functions, multiply the following arraysa=np.arange(6).reshape(2,3) b=np.arange(6).reshape(3,2)\n",
    "\n",
    "\n"
   ]
  },
  {
   "cell_type": "code",
   "execution_count": null,
   "id": "544c4c74",
   "metadata": {},
   "outputs": [],
   "source": [
    "#Q64:Using numpy functions, multiply the following arrays a=np.arange(6).reshape(2,3), b=np.arange(6).reshape(3,2)\n",
    "import pandas as pd\n",
    "import numpy as np\n",
    "a = np.arange(6).reshape((2, 3))\n",
    "b = np.arange(6).reshape((3,2))\n",
    "print(np.dot(a, b))\n"
   ]
  },
  {
   "cell_type": "code",
   "execution_count": null,
   "id": "2a633c48",
   "metadata": {},
   "outputs": [],
   "source": []
  },
  {
   "cell_type": "markdown",
   "id": "b20d907d",
   "metadata": {},
   "source": [
    "#Q65:Get the  number of patients based on service and primary diagnosis"
   ]
  },
  {
   "cell_type": "code",
   "execution_count": null,
   "id": "6c9a8eb7",
   "metadata": {},
   "outputs": [],
   "source": [
    "#Q65:Get the  number of patients based on service and primary diagnosis\n",
    "import pandas as pd\n",
    "import numpy as np\n",
    "df = pd.read_excel(\"HospitalDatabase .xlsx\",sheet_name=\"Discharges\")\n",
    "df1 = df.groupby(['Service']).size()\n",
    "df2 = df.groupby(['PrimaryDiagnosis']).size()\n",
    "print(df1,df2)\n"
   ]
  },
  {
   "cell_type": "code",
   "execution_count": null,
   "id": "29926c13",
   "metadata": {},
   "outputs": [],
   "source": []
  },
  {
   "cell_type": "markdown",
   "id": "ac81ed1c",
   "metadata": {},
   "source": [
    "#Q66:np.arange(1,31).reshape(6,5), find array slicing to get the elements 4,5,24,25,29,30."
   ]
  },
  {
   "cell_type": "code",
   "execution_count": null,
   "id": "3af4e039",
   "metadata": {},
   "outputs": [],
   "source": [
    "#Q66:np.arange(1,31).reshape(6,5), find array slicing to get the elements 4,5,24,25,29,30.\n",
    "import numpy as np\n",
    "a = np.arange(1,31)\n",
    "a_6_5 = a.reshape([6,5])\n",
    "print(a_6_5)\n",
    "print( str(a_6_5[0,3]) + \" ,\" + str(a_6_5[0,4])+ \",\" + str(a_6_5[4,3]) + \",\" + str(a_6_5[4,4]) + \",\" +str(a_6_5[5,3])+ \",\" + str(a_6_5[5,4]))\n"
   ]
  },
  {
   "cell_type": "code",
   "execution_count": null,
   "id": "a129cfee",
   "metadata": {},
   "outputs": [],
   "source": []
  },
  {
   "cell_type": "markdown",
   "id": "90f36057",
   "metadata": {},
   "source": [
    "#Q67:Make a pivot table by the no. of patients from the admission date till discharge date.\n"
   ]
  },
  {
   "cell_type": "code",
   "execution_count": null,
   "id": "451b0bb1",
   "metadata": {},
   "outputs": [],
   "source": [
    "#Q67:Make a pivot table by the no. of patients from the admission date till discharge date.\n",
    "import pandas as pd\n",
    "import numpy as np\n",
    "data=pd.read_excel(\"HospitalDatabase .xlsx\",3)\n",
    "#data.head()\n",
    "pd.pivot_table(data,'PatientID',['AdmissionDate','DischargeDate'],aggfunc=np.sum) \n"
   ]
  },
  {
   "cell_type": "code",
   "execution_count": null,
   "id": "b80ddf16",
   "metadata": {},
   "outputs": [],
   "source": []
  },
  {
   "cell_type": "markdown",
   "id": "045a97b7",
   "metadata": {},
   "source": [
    "#Q68:Display the data where actual LOS is greater than expected LOS."
   ]
  },
  {
   "cell_type": "code",
   "execution_count": null,
   "id": "eea5986f",
   "metadata": {},
   "outputs": [],
   "source": [
    "#Q68:Display the data where actual LOS is greater than expected LOS.\n",
    "import pandas as pd\n",
    "import numpy as np\n",
    "import datetime as dt\n",
    "df = pd.read_excel(\"HospitalDatabase .xlsx\",sheet_name=\"ReAdmissionRegistry\", usecols=['AdmissionDate','DischargeDate','ExpectedLOS'])\n",
    "df['AdmissionDate'] = pd.to_datetime(df['AdmissionDate'])\n",
    "df['DischargeDate'] = pd.to_datetime(df['DischargeDate'])\n",
    "df['ActualLOS'] = df['DischargeDate'].dt.date - df['AdmissionDate'].dt.date\n",
    "#df['Difference'] = df['ActualLOS'].dt.date - df['ExpectedLOS'].dt.date\n",
    "#df['ActLOS-ExpLOS'] = df['ActualLOS']-ExpectedLOS \n",
    "#rslt_df = df.loc[df['diff'] > df['ExpectedLOS']]\n",
    "print (df)\n",
    "\n"
   ]
  },
  {
   "cell_type": "code",
   "execution_count": null,
   "id": "3328db96",
   "metadata": {},
   "outputs": [],
   "source": []
  },
  {
   "cell_type": "markdown",
   "id": "2abe51ee",
   "metadata": {},
   "source": [
    "#Q69:Details of the patients whose firstname or lastname contains string \"lau\" , should be case insensitive.\n"
   ]
  },
  {
   "cell_type": "code",
   "execution_count": null,
   "id": "b2653a15",
   "metadata": {},
   "outputs": [],
   "source": [
    "#Q69:Details of the patients whose firstname or lastname contains string \"lau\" , should be case insensitive.\n",
    "import pandas as pd\n",
    "df= pd.read_excel('HospitalDatabase .xlsx','Patients')\n",
    "df1 = df[df['FirstName'].str.contains(\"lau|LAU|Lau|lAu|laU|LAu|lAU|LaU\")==True]\n",
    "df2 = df[df['LastName'].str.contains(\"lau|LAU|Lau|lAu|laU|LAu|lAU|LaU\")==True]\n",
    "df1df2 = pd.concat([df1, df2], axis=0)\n",
    "df1df2\n"
   ]
  },
  {
   "cell_type": "code",
   "execution_count": null,
   "id": "e15809d0",
   "metadata": {},
   "outputs": [],
   "source": []
  },
  {
   "cell_type": "markdown",
   "id": "2e52261e",
   "metadata": {},
   "source": [
    "#Q70:Plot a graph to show the distribution of expected mortality."
   ]
  },
  {
   "cell_type": "code",
   "execution_count": null,
   "id": "11f53752",
   "metadata": {},
   "outputs": [],
   "source": [
    "#Q70:Plot a graph to show the distribution of expected mortality.\n",
    "import pandas as pd\n",
    "import matplotlib.pyplot as plt\n",
    "df= pd.read_excel('HospitalDatabase .xlsx','Discharges')\n",
    "data = df['ExpectedMortality']\n",
    "plt.ylabel('Frequency')\n",
    "plt.xlabel('Expected mortality')\n",
    "plt.show(plt.hist(data))\n"
   ]
  },
  {
   "cell_type": "code",
   "execution_count": null,
   "id": "db42283d",
   "metadata": {},
   "outputs": [],
   "source": []
  },
  {
   "cell_type": "markdown",
   "id": "b2fa04f0",
   "metadata": {},
   "source": [
    "#Q71:Create a visualization on the count of patients based on primary diagnosis."
   ]
  },
  {
   "cell_type": "code",
   "execution_count": null,
   "id": "43e950ea",
   "metadata": {},
   "outputs": [],
   "source": [
    "#Q71:Create a visualization on the count of patients based on primary diagnosis.\n",
    "import pandas as pd\n",
    "data=pd.read_excel(\"HospitalDatabase .xlsx\",sheet_name=\"Discharges\", usecols=['PatientID','PrimaryDiagnosis'])\n",
    "grouped_multiple = data.groupby(['PrimaryDiagnosis']).agg({'PatientID': ['count']})\n",
    "grouped_multiple.columns = ['count of patients']\n",
    "grouped_multiple = grouped_multiple.reset_index()\n",
    "print(grouped_multiple)\n",
    "import seaborn as sns\n",
    "import matplotlib.pyplot as plt\n",
    "sns.barplot(y='PrimaryDiagnosis', x='count of patients', data=grouped_multiple)\n",
    "plt.show()\n",
    "\n"
   ]
  },
  {
   "cell_type": "code",
   "execution_count": null,
   "id": "e9266547",
   "metadata": {},
   "outputs": [],
   "source": []
  },
  {
   "cell_type": "markdown",
   "id": "fe053ac7",
   "metadata": {},
   "source": [
    "#Q72:List male patients over the age of 60 who have undergone surgery from January-March 2019."
   ]
  },
  {
   "cell_type": "code",
   "execution_count": null,
   "id": "e8cccc05",
   "metadata": {},
   "outputs": [],
   "source": [
    "#Q72:List male patients over the age of 60 who have undergone surgery from January-March 2019.\n",
    "import pandas as pd\n",
    "from datetime import datetime\n",
    "\n",
    "fromDateDatieobj=datetime.fromisoformat('2019-01-01 00:00:00.000')\n",
    "ToDateDateobj=datetime.fromisoformat('2019-03-01 00:00:00.000')\n",
    "currentDateobj = datetime.now()\n",
    "today = date.today()\n",
    "\n",
    "ProviderData=pd.read_excel(\"HospitalDatabase .xlsx\",sheet_name=\"Providers\", usecols= ['ProviderID','ProviderSpecialty'])\n",
    "ProviderIDForSurgeryList = []\n",
    "PatientIDForSurgeryList = []\n",
    "for Providerindex in ProviderData.index:\n",
    "    ProviderID=ProviderData['ProviderID'][Providerindex]\n",
    "    ProviderSpecialty = ProviderData['ProviderSpecialty'][Providerindex]\n",
    "    if ProviderSpecialty == \"Surgery\":\n",
    "        ProviderIDForSurgeryList.append(ProviderID)\n",
    "\n",
    "AmbulatoryVisitsData=pd.read_excel(\"HospitalDatabase .xlsx\",sheet_name=\"AmbulatoryVisits\", usecols= ['ProviderID','PatientMRN','DateScheduled'])\n",
    "\n",
    "for AmbulatoryVisitsIndex in AmbulatoryVisitsData.index:\n",
    "    ProviderIDAV=AmbulatoryVisitsData['ProviderID'][AmbulatoryVisitsIndex]\n",
    "    PatientMRN = AmbulatoryVisitsData['PatientMRN'][AmbulatoryVisitsIndex]\n",
    "    DateScheduledStr = str(AmbulatoryVisitsData['DateScheduled'][AmbulatoryVisitsIndex])\n",
    "    DateScheduledDateobj=datetime.fromisoformat(DateScheduledStr)\n",
    "    if ((ProviderIDAV in ProviderIDForSurgeryList) and (DateScheduledDateobj >= fromDateDateobj and DateScheduledDateobj <= ToDateDateobj)):\n",
    "        PatientIDForSurgeryList.append(PatientMRN)\n",
    "\n",
    "PatientData=pd.read_excel(\"HospitalDatabase .xlsx\",sheet_name=\"Patients\", usecols= ['PatientID','FirstName','LastName', 'Gender','DateOfBirth'])\n",
    "print(\" Pnt:Id  FirstName      LastName      Gender     Age         ProviderSpecialty\")\n",
    "print(\"-------------------------------------------------------------------------\")\n",
    "for PatientDataIndex in PatientData.index:\n",
    "    PatientIDFmPatient=PatientData['PatientID'][PatientDataIndex]\n",
    "    FirstName = PatientData['FirstName'][PatientDataIndex]\n",
    "    LastName = PatientData['LastName'][PatientDataIndex]\n",
    "    Gender = PatientData['Gender'][PatientDataIndex]\n",
    "    DateOfBirthStr = str(PatientData['DateOfBirth'][PatientDataIndex])\n",
    "    DateOfBirthObj = datetime.fromisoformat(DateOfBirthStr)\n",
    "    PatientAgeDelta = currentDateobj - DateOfBirthObj\n",
    "    PatientAgeDeltaInYears = PatientAgeDelta.days/365\n",
    "\n",
    "    if ((PatientIDFmPatient in PatientIDForSurgeryList) and PatientAgeDeltaInYears > 60 and (Gender == 'Male')):\n",
    "        print(str(PatientIDFmPatient) + \"     \" + str(FirstName) + \"       \" + LastName + \"        \" + str(Gender)  + \"     \" + str(PatientAgeDeltaInYears) +\"         \"+ \" Surgery\")\n",
    "\n"
   ]
  },
  {
   "cell_type": "code",
   "execution_count": null,
   "id": "5c5ffb36",
   "metadata": {},
   "outputs": [],
   "source": []
  },
  {
   "cell_type": "markdown",
   "id": "ae8976d5",
   "metadata": {},
   "source": [
    "#Q73:Delete the column 'DischargeDispostion' iteratively."
   ]
  },
  {
   "cell_type": "code",
   "execution_count": null,
   "id": "ac770d54",
   "metadata": {},
   "outputs": [],
   "source": [
    "#Q 73:Delete the column 'DischargeDispostion' iteratively.\n",
    "import pandas as pd\n",
    "df=pd.read_excel(\"HospitalDatabase .xlsx\",'Discharges')\n",
    "del df['DischargeDisposition']\n",
    "print(df)\n"
   ]
  },
  {
   "cell_type": "code",
   "execution_count": null,
   "id": "d4ebbe56",
   "metadata": {},
   "outputs": [],
   "source": []
  },
  {
   "cell_type": "markdown",
   "id": "39dff166",
   "metadata": {},
   "source": [
    "#Q 74:Get the list of ReasonForVisit."
   ]
  },
  {
   "cell_type": "code",
   "execution_count": null,
   "id": "5246bac9",
   "metadata": {},
   "outputs": [],
   "source": [
    "#Q 74:Get the list of ReasonForVisit.\n",
    "import numpy as np\n",
    "import pandas as pd\n",
    "df=pd.read_excel(\"HospitalDatabase .xlsx\",sheet_name=\"EDUnique\")\n",
    "ReasonForVisit_list=list(df['ReasonForVisit'])\n",
    "ReasonForVisit_list=list(dict.fromkeys(ReasonForVisit_list))\n",
    "print(ReasonForVisit_list)     \n"
   ]
  },
  {
   "cell_type": "code",
   "execution_count": null,
   "id": "4708838d",
   "metadata": {},
   "outputs": [],
   "source": []
  },
  {
   "cell_type": "markdown",
   "id": "a8d36644",
   "metadata": {},
   "source": [
    "#Q 75:Calculate the time spent in ED Department for each visit."
   ]
  },
  {
   "cell_type": "code",
   "execution_count": null,
   "id": "980188ab",
   "metadata": {},
   "outputs": [],
   "source": [
    "#Q 75:Calculate the time spent in ED Department for each visit.\n",
    "import pandas as pd\n",
    "import numpy as np\n",
    "import datetime as dt\n",
    "df= pd.read_excel(\"HospitalDatabase .xlsx\", \"EDVisits\")\n",
    "df['VisitDate'] = pd.to_datetime(df['VisitDate'])\n",
    "df['EDDischargeTime'] = pd.to_datetime(df['EDDischargeTime'])\n",
    "df['diff'] = df['EDDischargeTime'].dt.date - df['VisitDate'].dt.date\n",
    "df.rename(columns = {'diff':'timespent'},inplace = True)\n",
    "df\n"
   ]
  },
  {
   "cell_type": "code",
   "execution_count": null,
   "id": "acdcd22f",
   "metadata": {},
   "outputs": [],
   "source": []
  },
  {
   "cell_type": "markdown",
   "id": "79476359",
   "metadata": {},
   "source": [
    "#Q76:Reverse the string without using inbuilt functions."
   ]
  },
  {
   "cell_type": "code",
   "execution_count": null,
   "id": "42a4a779",
   "metadata": {},
   "outputs": [],
   "source": [
    "#Q76:Reverse the string without using inbuilt functions.\n",
    "txt = \"Hello World\"[::-1]\n",
    "print(txt)\n"
   ]
  },
  {
   "cell_type": "code",
   "execution_count": null,
   "id": "1c752253",
   "metadata": {},
   "outputs": [],
   "source": []
  },
  {
   "cell_type": "markdown",
   "id": "caa9b3f5",
   "metadata": {},
   "source": [
    "#Q77:Create a bar chart by making list on Acuity & EDDisposition column (with no duplicates) & make the hatchs onto the bar by using set_hatch() method.\n"
   ]
  },
  {
   "cell_type": "code",
   "execution_count": null,
   "id": "197d8653",
   "metadata": {},
   "outputs": [],
   "source": [
    "#Q77:Create a bar chart by making list on Acuity & EDDisposition column (with no duplicates) & make the hatchs onto the bar by using set_hatch() method.\n",
    "import pandas as pd\n",
    "import seaborn as sns\n",
    "import numpy as np\n",
    "import matplotlib.pyplot as plt\n",
    "df=pd.read_excel(\"HospitalDatabase .xlsx\",sheet_name=\"EDUnique\")\n",
    "df['EDDisposition'] = df['EDDisposition'].str.upper()\n",
    "bars=sns.barplot(x='EDDisposition', y='Acuity', data=df)\n",
    "hatches = [\"*\", \"/\", \"o\", \"x\"]\n",
    "\n",
    "for patch in bars.patches:\n",
    "   patch.set_hatch(hatches[np.random.randint(10)%len(hatches)])\n",
    "plt.show()\n",
    "\n"
   ]
  },
  {
   "cell_type": "code",
   "execution_count": null,
   "id": "36c7e714",
   "metadata": {},
   "outputs": [],
   "source": []
  },
  {
   "cell_type": "markdown",
   "id": "539c4d71",
   "metadata": {},
   "source": [
    "#Q78:Find reasonForVisit with highest count of acuity 5 patients."
   ]
  },
  {
   "cell_type": "code",
   "execution_count": null,
   "id": "39a8e654",
   "metadata": {},
   "outputs": [],
   "source": [
    "#Q78:Find reasonForVisit with highest count of acuity 5 patients.\n",
    "import pandas as pd\n",
    "df= pd.read_excel('HospitalDatabase .xlsx','EDUnique')\n",
    "df1=df.loc[(df['Acuity'] == 5)]\n",
    "df1['ReasonForVisit'].value_counts().idxmax()\n"
   ]
  },
  {
   "cell_type": "code",
   "execution_count": null,
   "id": "82f4597d",
   "metadata": {},
   "outputs": [],
   "source": []
  },
  {
   "cell_type": "markdown",
   "id": "4e24eeee",
   "metadata": {},
   "source": [
    "#Q79:Which PrimaryDiagnosis has the biggest difference between maximum and minimum Expected LOS?"
   ]
  },
  {
   "cell_type": "code",
   "execution_count": null,
   "id": "ae0a6078",
   "metadata": {},
   "outputs": [],
   "source": [
    "#Q79:Which PrimaryDiagnosis has the biggest difference between maximum and minimum Expected LOS?\n",
    "import pandas as pd\n",
    "data=pd.read_excel(\"HospitalDatabase .xlsx\",sheet_name=\"ReAdmissionRegistry\", usecols=['PrimaryDiagnosis','ExpectedLOS'])\n",
    "grouped_multiple = data.groupby(['PrimaryDiagnosis']).agg({'ExpectedLOS': [max,min]})\n",
    "grouped_multiple[\"DIFF\"] = data.groupby(['PrimaryDiagnosis']).agg({'ExpectedLOS': max})-data.groupby(['PrimaryDiagnosis']).agg({'ExpectedLOS': min})\n",
    "#grouped_multiple[\"DIFF\"] = grouped_multiple[\"MAX\"] - grouped_multiple[\"MIN\"]\n",
    "print(grouped_multiple )\n",
    "print(\"\")\n",
    "print (\" Pneumonia has the biggest difference between maximum and minimum Expected LOS\")\n"
   ]
  },
  {
   "cell_type": "code",
   "execution_count": null,
   "id": "3cdad7c6",
   "metadata": {},
   "outputs": [],
   "source": []
  },
  {
   "cell_type": "markdown",
   "id": "c4dc429a",
   "metadata": {},
   "source": [
    "#Q80:Write a code snippet to print different ProviderSpecialty ( use groupby and get the list of the groups).\n"
   ]
  },
  {
   "cell_type": "code",
   "execution_count": null,
   "id": "77392777",
   "metadata": {},
   "outputs": [],
   "source": [
    "#Q80:Write a code snippet to print different ProviderSpecialty ( use groupby and get the list of the groups).\n",
    "import pandas as pd\n",
    "data=pd.read_excel(\"HospitalDatabase .xlsx\",sheet_name=\"Providers\", usecols=['ProviderSpecialty','ProviderID'])\n",
    "grouped_multiple = data.groupby(['ProviderSpecialty']).agg({'ProviderID': ['count']})\n",
    "print(grouped_multiple)\n",
    "\n"
   ]
  },
  {
   "cell_type": "code",
   "execution_count": null,
   "id": "903508a8",
   "metadata": {},
   "outputs": [],
   "source": []
  },
  {
   "cell_type": "code",
   "execution_count": null,
   "id": "500b0a46",
   "metadata": {},
   "outputs": [],
   "source": []
  },
  {
   "cell_type": "code",
   "execution_count": null,
   "id": "6d59c2da",
   "metadata": {},
   "outputs": [],
   "source": []
  }
 ],
 "metadata": {
  "kernelspec": {
   "display_name": "Python 3 (ipykernel)",
   "language": "python",
   "name": "python3"
  },
  "language_info": {
   "codemirror_mode": {
    "name": "ipython",
    "version": 3
   },
   "file_extension": ".py",
   "mimetype": "text/x-python",
   "name": "python",
   "nbconvert_exporter": "python",
   "pygments_lexer": "ipython3",
   "version": "3.9.12"
  }
 },
 "nbformat": 4,
 "nbformat_minor": 5
}
