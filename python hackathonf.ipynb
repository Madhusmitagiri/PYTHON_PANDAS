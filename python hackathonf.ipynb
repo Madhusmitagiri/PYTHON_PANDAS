{
 "cells": [
  {
   "cell_type": "code",
   "execution_count": 1,
   "id": "f741b08a",
   "metadata": {},
   "outputs": [
    {
     "data": {
      "text/plain": [
       "'C:\\\\Users\\\\sunda\\\\Downloads'"
      ]
     },
     "execution_count": 1,
     "metadata": {},
     "output_type": "execute_result"
    }
   ],
   "source": [
    "import os\n",
    "os.getcwd()"
   ]
  },
  {
   "cell_type": "code",
   "execution_count": 5,
   "id": "4ee468b5",
   "metadata": {},
   "outputs": [],
   "source": [
    "import pandas as pd\n",
    "import seaborn as sns\n",
    "import numpy as np\n",
    "import matplotlib.pyplot as plt"
   ]
  },
  {
   "cell_type": "code",
   "execution_count": 6,
   "id": "189eaa9a",
   "metadata": {},
   "outputs": [],
   "source": [
    "# pairplot of Readmission registry\n",
    "df = pd.read_excel(\"HospitalDatabase .xlsx\")"
   ]
  },
  {
   "cell_type": "markdown",
   "id": "8447deeb",
   "metadata": {},
   "source": [
    "# Q2         Using iloc, retrieve the firstname and lastname of patients between indices 101 and 200.\n"
   ]
  },
  {
   "cell_type": "code",
   "execution_count": 33,
   "id": "73b1db5e",
   "metadata": {},
   "outputs": [
    {
     "name": "stdout",
     "output_type": "stream",
     "text": [
      "    FirstName    LastName\n",
      "101     Gipsy    Frankton\n",
      "102    Jethro      Wharin\n",
      "103       Viv     Aylward\n",
      "104     Swift   Dreschler\n",
      "105     Fadel  Jacquemard\n",
      "..        ...         ...\n",
      "195  Cathlene     Kidwell\n",
      "196      Noam    Laguerre\n",
      "197      Arie     Bayless\n",
      "198    Janaye     O'Mohun\n",
      "199      Fonz       Group\n",
      "\n",
      "[99 rows x 2 columns]\n"
     ]
    }
   ],
   "source": [
    "import pandas as pd\n",
    "dataset = pd.read_excel(\"HospitalDatabase .xlsx\",sheet_name=\"Patients\")\n",
    "import numpy as np\n",
    "import matplotlib.pyplot as plt\n",
    "print(dataset.iloc[101:200,1:3])"
   ]
  },
  {
   "cell_type": "markdown",
   "id": "a0f36929",
   "metadata": {},
   "source": [
    "# Q10.Create a boxplot on ExpectedLOS by taking service into account.\n"
   ]
  },
  {
   "cell_type": "code",
   "execution_count": 35,
   "id": "0efc3ed8",
   "metadata": {},
   "outputs": [
    {
     "data": {
      "image/png": "[encoded data removed]",
      "text/plain": [
       "<Figure size 432x288 with 1 Axes>"
      ]
     },
     "metadata": {
      "needs_background": "light"
     },
     "output_type": "display_data"
    }
   ],
   "source": [
    "import pandas as pd\n",
    "dataset = pd.read_excel(\"HospitalDatabase .xlsx\",sheet_name=\"Discharges\")\n",
    "import seaborn as sns\n",
    "import matplotlib.pyplot as plt\n",
    "sns.boxplot(x=dataset[\"ExpectedLOS\"],y=dataset[\"Service\"])\n",
    "plt.show()"
   ]
  },
  {
   "cell_type": "markdown",
   "id": "4aaf0383",
   "metadata": {
    "scrolled": false
   },
   "source": [
    "Q1. Draw a pairplot on the readmission registry\n"
   ]
  },
  {
   "cell_type": "markdown",
   "id": "ef04edca",
   "metadata": {},
   "source": [
    "# Q9.Get the list of patient ID's which are not there in ReadmissionRegistry."
   ]
  },
  {
   "cell_type": "code",
   "execution_count": 1,
   "id": "00dec62d",
   "metadata": {},
   "outputs": [
    {
     "data": {
      "text/plain": [
       "3        4\n",
       "134    135\n",
       "144    145\n",
       "188    189\n",
       "199    200\n",
       "      ... \n",
       "940    941\n",
       "941    942\n",
       "942    943\n",
       "943    944\n",
       "944    945\n",
       "Name: PatientID, Length: 241, dtype: int64"
      ]
     },
     "execution_count": 1,
     "metadata": {},
     "output_type": "execute_result"
    }
   ],
   "source": [
    "import pandas as pd\n",
    "df=pd.read_excel(\"HospitalDatabase .xlsx\",'ReAdmissionRegistry')\n",
    "df=df['PatientID']\n",
    "df1=pd.read_excel(\"HospitalDatabase .xlsx\",'Patients')\n",
    "df1=df1['PatientID']\n",
    "df1[~df1.isin(df)].dropna()\n"
   ]
  },
  {
   "cell_type": "markdown",
   "id": "a7ace579",
   "metadata": {},
   "source": [
    "# Q17.Create a heat map to show the correlation between the column values of "
   ]
  },
  {
   "cell_type": "code",
   "execution_count": 3,
   "id": "e1eb6c73",
   "metadata": {},
   "outputs": [
    {
     "data": {
      "image/png": "[encoded data removed]",
      "text/plain": [
       "<Figure size 432x288 with 2 Axes>"
      ]
     },
     "metadata": {
      "needs_background": "light"
     },
     "output_type": "display_data"
    }
   ],
   "source": [
    "import matplotlib.pyplot as plt\n",
    "import pandas as pd\n",
    "import seaborn as sns\n",
    "  \n",
    "# import file with data\n",
    "data=pd.read_excel(\"HospitalDatabase .xlsx\",sheet_name=\"EDVisits\")\n",
    "  \n",
    "# plotting correlation heatmap\n",
    "dataplot=sns.heatmap(data.corr())\n",
    "  \n",
    "# displaying heatmap\n",
    "plt.show()"
   ]
  },
  {
   "cell_type": "markdown",
   "id": "e145e599",
   "metadata": {},
   "source": [
    "# Q42. Using loc , get the details of the providers where providerId is between 11 and 20 and ProviderSpecialty is Surgery.\n"
   ]
  },
  {
   "cell_type": "code",
   "execution_count": 4,
   "id": "67a578e5",
   "metadata": {},
   "outputs": [
    {
     "name": "stdout",
     "output_type": "stream",
     "text": [
      "    ProviderID  ProviderName ProviderSpecialty     ProviderDateOnStaff\n",
      "10          11  Kim Kimberly           Surgery 1998-05-10 14:47:29.468\n",
      "    ProviderID ProviderName ProviderSpecialty     ProviderDateOnStaff\n",
      "11          12     Sarah Ab           Surgery 1998-08-18 05:22:40.762\n",
      "    ProviderID     ProviderName ProviderSpecialty     ProviderDateOnStaff\n",
      "12          13  Abigail Marriot           Surgery 1998-11-08 12:25:45.705\n",
      "    ProviderID ProviderName ProviderSpecialty     ProviderDateOnStaff\n",
      "13          14      Dave Yu           Surgery 1999-06-26 16:18:57.436\n",
      "    ProviderID     ProviderName ProviderSpecialty     ProviderDateOnStaff\n",
      "14          15  Christian Saint           Surgery 2000-08-27 00:12:40.326\n",
      "    ProviderID  ProviderName ProviderSpecialty     ProviderDateOnStaff\n",
      "15          16  Perry Pardon           Surgery 2001-02-13 11:49:17.862\n",
      "Empty DataFrame\n",
      "Columns: [ProviderID, ProviderName, ProviderSpecialty, ProviderDateOnStaff]\n",
      "Index: []\n"
     ]
    }
   ],
   "source": [
    "import pandas as pd\n",
    "df= pd.read_excel('HospitalDatabase .xlsx','Providers')\n",
    "ProviderID= df[\"ProviderID\"].unique()\n",
    "columns='Provider'\n",
    "count=int(len(\"ProviderSpecialty\"))\n",
    "i=10\n",
    "while (i <count ):\n",
    "    df1=df.loc[(df[\"ProviderSpecialty\"] == \"Surgery\") & (df[\"ProviderID\"] ==  ProviderID[i])]\n",
    "    print(df1)\n",
    "    i+=1"
   ]
  },
  {
   "cell_type": "code",
   "execution_count": null,
   "id": "b772365c",
   "metadata": {},
   "outputs": [],
   "source": []
  }
 ],
 "metadata": {
  "kernelspec": {
   "display_name": "Python 3 (ipykernel)",
   "language": "python",
   "name": "python3"
  },
  "language_info": {
   "codemirror_mode": {
    "name": "ipython",
    "version": 3
   },
   "file_extension": ".py",
   "mimetype": "text/x-python",
   "name": "python",
   "nbconvert_exporter": "python",
   "pygments_lexer": "ipython3",
   "version": "3.9.12"
  }
 },
 "nbformat": 4,
 "nbformat_minor": 5
}
